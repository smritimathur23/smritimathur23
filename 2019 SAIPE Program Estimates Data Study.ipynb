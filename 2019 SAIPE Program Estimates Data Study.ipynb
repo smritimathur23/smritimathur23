{
 "cells": [
  {
   "attachments": {},
   "cell_type": "markdown",
   "id": "5abf56be",
   "metadata": {},
   "source": [
    "# 2019 SAIPE Program Estimates Data Study\t\t\t\t\t\t\t\t\t\t\t\t\n",
    "Poverty Rate, All Ages - Counties in the United States\t\t\t\t\t\t\t\t\t\t\t"
   ]
  },
  {
   "attachments": {},
   "cell_type": "markdown",
   "id": "b1bc1050",
   "metadata": {},
   "source": [
    "This report provides a summary of the 2019 release of the U.S. Census Bureau's Small Area Income and Poverty Estimates (SAIPE) program. SAIPE is the only source for single-year estimates of income and poverty for all counties in the United States. SAIPE also releases estimates of childhood poverty for all school districts. This report describes income and poverty trends at the state, county, and school district levels.\n",
    "\n",
    "Source:  Small Area Income and Poverty Estimates (SAIPE) program, U.S. Census Bureau\t\t\t\t\t\t\t\t\t"
   ]
  },
  {
   "cell_type": "code",
   "execution_count": 1,
   "id": "ed372d61",
   "metadata": {},
   "outputs": [
    {
     "name": "stderr",
     "output_type": "stream",
     "text": [
      "Matplotlib is building the font cache; this may take a moment.\n"
     ]
    }
   ],
   "source": [
    "import pandas as pd \n",
    "import sqlite3\n",
    "import numpy as np \n",
    "import matplotlib.pyplot as plt \n",
    "import seaborn as sns "
   ]
  },
  {
   "cell_type": "code",
   "execution_count": 8,
   "id": "880b60e6",
   "metadata": {},
   "outputs": [],
   "source": [
    "#Importing the 30 Lowest SAIPE County Estimates dataset.\n",
    "df = pd.read_csv(\"2019 SAIPE Program Estimates Data \")"
   ]
  },
  {
   "cell_type": "code",
   "execution_count": 9,
   "id": "de12687f",
   "metadata": {},
   "outputs": [
    {
     "data": {
      "text/html": [
       "<div>\n",
       "<style scoped>\n",
       "    .dataframe tbody tr th:only-of-type {\n",
       "        vertical-align: middle;\n",
       "    }\n",
       "\n",
       "    .dataframe tbody tr th {\n",
       "        vertical-align: top;\n",
       "    }\n",
       "\n",
       "    .dataframe thead th {\n",
       "        text-align: right;\n",
       "    }\n",
       "</style>\n",
       "<table border=\"1\" class=\"dataframe\">\n",
       "  <thead>\n",
       "    <tr style=\"text-align: right;\">\n",
       "      <th></th>\n",
       "      <th>County Name</th>\n",
       "      <th>Population</th>\n",
       "      <th>Poverty Rate and Ages</th>\n",
       "      <th>90% C.I. Lower Bound</th>\n",
       "      <th>90% C.I. Upper Bound</th>\n",
       "    </tr>\n",
       "  </thead>\n",
       "  <tbody>\n",
       "    <tr>\n",
       "      <th>0</th>\n",
       "      <td>Douglas Count - CO</td>\n",
       "      <td>351154</td>\n",
       "      <td>2.2</td>\n",
       "      <td>1.5</td>\n",
       "      <td>2.9</td>\n",
       "    </tr>\n",
       "    <tr>\n",
       "      <th>1</th>\n",
       "      <td>Loudoun County - VA</td>\n",
       "      <td>413538</td>\n",
       "      <td>2.8</td>\n",
       "      <td>1.8</td>\n",
       "      <td>3.8</td>\n",
       "    </tr>\n",
       "    <tr>\n",
       "      <th>2</th>\n",
       "      <td>Falls Church city - VA</td>\n",
       "      <td>14617</td>\n",
       "      <td>2.8</td>\n",
       "      <td>1.8</td>\n",
       "      <td>3.8</td>\n",
       "    </tr>\n",
       "    <tr>\n",
       "      <th>3</th>\n",
       "      <td>Los Alamos County - NM</td>\n",
       "      <td>19369</td>\n",
       "      <td>2.8</td>\n",
       "      <td>1.7</td>\n",
       "      <td>3.9</td>\n",
       "    </tr>\n",
       "    <tr>\n",
       "      <th>4</th>\n",
       "      <td>Carver County - MN</td>\n",
       "      <td>105089</td>\n",
       "      <td>3.2</td>\n",
       "      <td>2.2</td>\n",
       "      <td>4.2</td>\n",
       "    </tr>\n",
       "    <tr>\n",
       "      <th>5</th>\n",
       "      <td>Lincoln County - SD</td>\n",
       "      <td>61128</td>\n",
       "      <td>3.2</td>\n",
       "      <td>2.0</td>\n",
       "      <td>4.4</td>\n",
       "    </tr>\n",
       "    <tr>\n",
       "      <th>6</th>\n",
       "      <td>Hunterdon County - NJ</td>\n",
       "      <td>124371</td>\n",
       "      <td>3.2</td>\n",
       "      <td>2.0</td>\n",
       "      <td>4.4</td>\n",
       "    </tr>\n",
       "    <tr>\n",
       "      <th>7</th>\n",
       "      <td>Monroe County - IL</td>\n",
       "      <td>34637</td>\n",
       "      <td>3.2</td>\n",
       "      <td>2.1</td>\n",
       "      <td>4.3</td>\n",
       "    </tr>\n",
       "    <tr>\n",
       "      <th>8</th>\n",
       "      <td>Williamson County - TN</td>\n",
       "      <td>238412</td>\n",
       "      <td>3.3</td>\n",
       "      <td>2.2</td>\n",
       "      <td>4.4</td>\n",
       "    </tr>\n",
       "    <tr>\n",
       "      <th>9</th>\n",
       "      <td>Ozaukee County - WI</td>\n",
       "      <td>89221</td>\n",
       "      <td>3.8</td>\n",
       "      <td>2.6</td>\n",
       "      <td>5.0</td>\n",
       "    </tr>\n",
       "    <tr>\n",
       "      <th>10</th>\n",
       "      <td>Broomfield County - CO</td>\n",
       "      <td>70465</td>\n",
       "      <td>3.8</td>\n",
       "      <td>2.4</td>\n",
       "      <td>5.2</td>\n",
       "    </tr>\n",
       "    <tr>\n",
       "      <th>11</th>\n",
       "      <td>Morgan County - UT</td>\n",
       "      <td>12124</td>\n",
       "      <td>3.9</td>\n",
       "      <td>2.4</td>\n",
       "      <td>5.4</td>\n",
       "    </tr>\n",
       "    <tr>\n",
       "      <th>12</th>\n",
       "      <td>Hamilton County - IN</td>\n",
       "      <td>338011</td>\n",
       "      <td>4.0</td>\n",
       "      <td>2.9</td>\n",
       "      <td>5.1</td>\n",
       "    </tr>\n",
       "    <tr>\n",
       "      <th>13</th>\n",
       "      <td>Delaware County - OH</td>\n",
       "      <td>209177</td>\n",
       "      <td>4.1</td>\n",
       "      <td>3.2</td>\n",
       "      <td>5.0</td>\n",
       "    </tr>\n",
       "    <tr>\n",
       "      <th>14</th>\n",
       "      <td>Dallas County - IA</td>\n",
       "      <td>93453</td>\n",
       "      <td>4.1</td>\n",
       "      <td>2.6</td>\n",
       "      <td>5.6</td>\n",
       "    </tr>\n",
       "    <tr>\n",
       "      <th>15</th>\n",
       "      <td>Oldham County - KY</td>\n",
       "      <td>66799</td>\n",
       "      <td>4.1</td>\n",
       "      <td>2.8</td>\n",
       "      <td>5.4</td>\n",
       "    </tr>\n",
       "    <tr>\n",
       "      <th>16</th>\n",
       "      <td>Livingston County - MI</td>\n",
       "      <td>191995</td>\n",
       "      <td>4.2</td>\n",
       "      <td>2.7</td>\n",
       "      <td>5.7</td>\n",
       "    </tr>\n",
       "    <tr>\n",
       "      <th>17</th>\n",
       "      <td>Scott County - MN</td>\n",
       "      <td>149013</td>\n",
       "      <td>4.2</td>\n",
       "      <td>2.7</td>\n",
       "      <td>5.7</td>\n",
       "    </tr>\n",
       "    <tr>\n",
       "      <th>18</th>\n",
       "      <td>Forsyth County - GA</td>\n",
       "      <td>244252</td>\n",
       "      <td>4.4</td>\n",
       "      <td>3.1</td>\n",
       "      <td>5.7</td>\n",
       "    </tr>\n",
       "    <tr>\n",
       "      <th>19</th>\n",
       "      <td>Kendall County - IL</td>\n",
       "      <td>128990</td>\n",
       "      <td>4.4</td>\n",
       "      <td>2.8</td>\n",
       "      <td>6.0</td>\n",
       "    </tr>\n",
       "    <tr>\n",
       "      <th>20</th>\n",
       "      <td>Washington County - WI</td>\n",
       "      <td>136034</td>\n",
       "      <td>4.4</td>\n",
       "      <td>3.0</td>\n",
       "      <td>5.8</td>\n",
       "    </tr>\n",
       "    <tr>\n",
       "      <th>21</th>\n",
       "      <td>Rockingham County - NH</td>\n",
       "      <td>309769</td>\n",
       "      <td>4.6</td>\n",
       "      <td>3.2</td>\n",
       "      <td>6.0</td>\n",
       "    </tr>\n",
       "    <tr>\n",
       "      <th>22</th>\n",
       "      <td>Warren County - OH</td>\n",
       "      <td>234602</td>\n",
       "      <td>4.6</td>\n",
       "      <td>3.1</td>\n",
       "      <td>6.1</td>\n",
       "    </tr>\n",
       "    <tr>\n",
       "      <th>23</th>\n",
       "      <td>Washington County - MN</td>\n",
       "      <td>262440</td>\n",
       "      <td>4.6</td>\n",
       "      <td>3.1</td>\n",
       "      <td>6.1</td>\n",
       "    </tr>\n",
       "    <tr>\n",
       "      <th>24</th>\n",
       "      <td>Wright County - MN</td>\n",
       "      <td>138377</td>\n",
       "      <td>4.7</td>\n",
       "      <td>3.3</td>\n",
       "      <td>6.1</td>\n",
       "    </tr>\n",
       "    <tr>\n",
       "      <th>25</th>\n",
       "      <td>Hendricks County - IN</td>\n",
       "      <td>170311</td>\n",
       "      <td>4.7</td>\n",
       "      <td>3.1</td>\n",
       "      <td>6.3</td>\n",
       "    </tr>\n",
       "    <tr>\n",
       "      <th>26</th>\n",
       "      <td>Waukesha County - WI</td>\n",
       "      <td>404198</td>\n",
       "      <td>4.7</td>\n",
       "      <td>3.6</td>\n",
       "      <td>5.8</td>\n",
       "    </tr>\n",
       "    <tr>\n",
       "      <th>27</th>\n",
       "      <td>Teton County WY</td>\n",
       "      <td>23464</td>\n",
       "      <td>4.7</td>\n",
       "      <td>2.7</td>\n",
       "      <td>6.7</td>\n",
       "    </tr>\n",
       "    <tr>\n",
       "      <th>28</th>\n",
       "      <td>Hanover County - VA</td>\n",
       "      <td>107766</td>\n",
       "      <td>4.8</td>\n",
       "      <td>3.0</td>\n",
       "      <td>6.6</td>\n",
       "    </tr>\n",
       "    <tr>\n",
       "      <th>29</th>\n",
       "      <td>St. Charles County - MO</td>\n",
       "      <td>402022</td>\n",
       "      <td>4.8</td>\n",
       "      <td>3.3</td>\n",
       "      <td>6.3</td>\n",
       "    </tr>\n",
       "  </tbody>\n",
       "</table>\n",
       "</div>"
      ],
      "text/plain": [
       "                 County Name   Population   Poverty Rate and Ages  \\\n",
       "0         Douglas Count - CO       351154                     2.2   \n",
       "1        Loudoun County - VA       413538                     2.8   \n",
       "2     Falls Church city - VA        14617                     2.8   \n",
       "3     Los Alamos County - NM        19369                     2.8   \n",
       "4         Carver County - MN       105089                     3.2   \n",
       "5        Lincoln County - SD        61128                     3.2   \n",
       "6      Hunterdon County - NJ       124371                     3.2   \n",
       "7         Monroe County - IL        34637                     3.2   \n",
       "8     Williamson County - TN       238412                     3.3   \n",
       "9        Ozaukee County - WI        89221                     3.8   \n",
       "10    Broomfield County - CO        70465                     3.8   \n",
       "11        Morgan County - UT        12124                     3.9   \n",
       "12      Hamilton County - IN       338011                     4.0   \n",
       "13      Delaware County - OH       209177                     4.1   \n",
       "14        Dallas County - IA        93453                     4.1   \n",
       "15        Oldham County - KY        66799                     4.1   \n",
       "16    Livingston County - MI       191995                     4.2   \n",
       "17         Scott County - MN       149013                     4.2   \n",
       "18       Forsyth County - GA       244252                     4.4   \n",
       "19       Kendall County - IL       128990                     4.4   \n",
       "20    Washington County - WI       136034                     4.4   \n",
       "21    Rockingham County - NH       309769                     4.6   \n",
       "22        Warren County - OH       234602                     4.6   \n",
       "23    Washington County - MN       262440                     4.6   \n",
       "24        Wright County - MN       138377                     4.7   \n",
       "25     Hendricks County - IN       170311                     4.7   \n",
       "26      Waukesha County - WI       404198                     4.7   \n",
       "27           Teton County WY        23464                     4.7   \n",
       "28       Hanover County - VA       107766                     4.8   \n",
       "29   St. Charles County - MO       402022                     4.8   \n",
       "\n",
       "     90% C.I. Lower Bound   90% C.I. Upper Bound  \n",
       "0                     1.5                    2.9  \n",
       "1                     1.8                    3.8  \n",
       "2                     1.8                    3.8  \n",
       "3                     1.7                    3.9  \n",
       "4                     2.2                    4.2  \n",
       "5                     2.0                    4.4  \n",
       "6                     2.0                    4.4  \n",
       "7                     2.1                    4.3  \n",
       "8                     2.2                    4.4  \n",
       "9                     2.6                    5.0  \n",
       "10                    2.4                    5.2  \n",
       "11                    2.4                    5.4  \n",
       "12                    2.9                    5.1  \n",
       "13                    3.2                    5.0  \n",
       "14                    2.6                    5.6  \n",
       "15                    2.8                    5.4  \n",
       "16                    2.7                    5.7  \n",
       "17                    2.7                    5.7  \n",
       "18                    3.1                    5.7  \n",
       "19                    2.8                    6.0  \n",
       "20                    3.0                    5.8  \n",
       "21                    3.2                    6.0  \n",
       "22                    3.1                    6.1  \n",
       "23                    3.1                    6.1  \n",
       "24                    3.3                    6.1  \n",
       "25                    3.1                    6.3  \n",
       "26                    3.6                    5.8  \n",
       "27                    2.7                    6.7  \n",
       "28                    3.0                    6.6  \n",
       "29                    3.3                    6.3  "
      ]
     },
     "execution_count": 9,
     "metadata": {},
     "output_type": "execute_result"
    }
   ],
   "source": [
    "df"
   ]
  },
  {
   "cell_type": "code",
   "execution_count": 10,
   "id": "9596fbd2",
   "metadata": {},
   "outputs": [
    {
     "data": {
      "text/html": [
       "<div>\n",
       "<style scoped>\n",
       "    .dataframe tbody tr th:only-of-type {\n",
       "        vertical-align: middle;\n",
       "    }\n",
       "\n",
       "    .dataframe tbody tr th {\n",
       "        vertical-align: top;\n",
       "    }\n",
       "\n",
       "    .dataframe thead th {\n",
       "        text-align: right;\n",
       "    }\n",
       "</style>\n",
       "<table border=\"1\" class=\"dataframe\">\n",
       "  <thead>\n",
       "    <tr style=\"text-align: right;\">\n",
       "      <th></th>\n",
       "      <th>Population</th>\n",
       "      <th>Poverty Rate and Ages</th>\n",
       "      <th>90% C.I. Lower Bound</th>\n",
       "      <th>90% C.I. Upper Bound</th>\n",
       "    </tr>\n",
       "  </thead>\n",
       "  <tbody>\n",
       "    <tr>\n",
       "      <th>count</th>\n",
       "      <td>30.000000</td>\n",
       "      <td>30.000000</td>\n",
       "      <td>30.00000</td>\n",
       "      <td>30.000000</td>\n",
       "    </tr>\n",
       "    <tr>\n",
       "      <th>mean</th>\n",
       "      <td>171493.266667</td>\n",
       "      <td>3.943333</td>\n",
       "      <td>2.63000</td>\n",
       "      <td>5.256667</td>\n",
       "    </tr>\n",
       "    <tr>\n",
       "      <th>std</th>\n",
       "      <td>123767.268599</td>\n",
       "      <td>0.731406</td>\n",
       "      <td>0.55283</td>\n",
       "      <td>0.959052</td>\n",
       "    </tr>\n",
       "    <tr>\n",
       "      <th>min</th>\n",
       "      <td>12124.000000</td>\n",
       "      <td>2.200000</td>\n",
       "      <td>1.50000</td>\n",
       "      <td>2.900000</td>\n",
       "    </tr>\n",
       "    <tr>\n",
       "      <th>25%</th>\n",
       "      <td>75154.000000</td>\n",
       "      <td>3.225000</td>\n",
       "      <td>2.20000</td>\n",
       "      <td>4.400000</td>\n",
       "    </tr>\n",
       "    <tr>\n",
       "      <th>50%</th>\n",
       "      <td>137205.500000</td>\n",
       "      <td>4.100000</td>\n",
       "      <td>2.70000</td>\n",
       "      <td>5.500000</td>\n",
       "    </tr>\n",
       "    <tr>\n",
       "      <th>75%</th>\n",
       "      <td>242792.000000</td>\n",
       "      <td>4.600000</td>\n",
       "      <td>3.10000</td>\n",
       "      <td>6.000000</td>\n",
       "    </tr>\n",
       "    <tr>\n",
       "      <th>max</th>\n",
       "      <td>413538.000000</td>\n",
       "      <td>4.800000</td>\n",
       "      <td>3.60000</td>\n",
       "      <td>6.700000</td>\n",
       "    </tr>\n",
       "  </tbody>\n",
       "</table>\n",
       "</div>"
      ],
      "text/plain": [
       "          Population   Poverty Rate and Ages   90% C.I. Lower Bound  \\\n",
       "count      30.000000               30.000000               30.00000   \n",
       "mean   171493.266667                3.943333                2.63000   \n",
       "std    123767.268599                0.731406                0.55283   \n",
       "min     12124.000000                2.200000                1.50000   \n",
       "25%     75154.000000                3.225000                2.20000   \n",
       "50%    137205.500000                4.100000                2.70000   \n",
       "75%    242792.000000                4.600000                3.10000   \n",
       "max    413538.000000                4.800000                3.60000   \n",
       "\n",
       "        90% C.I. Upper Bound  \n",
       "count              30.000000  \n",
       "mean                5.256667  \n",
       "std                 0.959052  \n",
       "min                 2.900000  \n",
       "25%                 4.400000  \n",
       "50%                 5.500000  \n",
       "75%                 6.000000  \n",
       "max                 6.700000  "
      ]
     },
     "execution_count": 10,
     "metadata": {},
     "output_type": "execute_result"
    }
   ],
   "source": [
    "#Describing the dataset in one go. \n",
    "df.describe()"
   ]
  },
  {
   "cell_type": "markdown",
   "id": "b79dc4ed",
   "metadata": {},
   "source": [
    "Maximum poverty rate as per the ages is 4.800000. The largest population is 413538.00000"
   ]
  },
  {
   "cell_type": "code",
   "execution_count": 13,
   "id": "90550525",
   "metadata": {},
   "outputs": [
    {
     "data": {
      "text/plain": [
       "Index(['County Name', ' Population', ' Poverty Rate and Ages',\n",
       "       ' 90% C.I. Lower Bound', ' 90% C.I. Upper Bound'],\n",
       "      dtype='object')"
      ]
     },
     "execution_count": 13,
     "metadata": {},
     "output_type": "execute_result"
    }
   ],
   "source": [
    "df.columns"
   ]
  },
  {
   "cell_type": "code",
   "execution_count": 16,
   "id": "eb050f42",
   "metadata": {},
   "outputs": [
    {
     "name": "stderr",
     "output_type": "stream",
     "text": [
      "C:\\Users\\lenovo\\AppData\\Local\\Temp\\ipykernel_996\\4156167262.py:2: FutureWarning: Indexing with multiple keys (implicitly converted to a tuple of keys) will be deprecated, use a list instead.\n",
      "  data = df.groupby('County Name')[' Population', ' Poverty Rate and Ages',  ' 90% C.I. Lower Bound', ' 90% C.I. Upper Bound'].sum().reset_index()\n"
     ]
    }
   ],
   "source": [
    "## Sorting the data in ascending order. \n",
    "data = df.groupby('County Name')[' Population', ' Poverty Rate and Ages',  ' 90% C.I. Lower Bound', ' 90% C.I. Upper Bound'].sum().reset_index()\n",
    "data = data.sort_values(' Poverty Rate and Ages', ascending = True)\n",
    "data = data[['County Name', ' Population', ' Poverty Rate and Ages',   ' 90% C.I. Lower Bound', ' 90% C.I. Upper Bound']]\n",
    "data = data.reset_index(drop = True)"
   ]
  },
  {
   "cell_type": "code",
   "execution_count": 17,
   "id": "1fb9db1c",
   "metadata": {},
   "outputs": [
    {
     "data": {
      "text/html": [
       "<div>\n",
       "<style scoped>\n",
       "    .dataframe tbody tr th:only-of-type {\n",
       "        vertical-align: middle;\n",
       "    }\n",
       "\n",
       "    .dataframe tbody tr th {\n",
       "        vertical-align: top;\n",
       "    }\n",
       "\n",
       "    .dataframe thead th {\n",
       "        text-align: right;\n",
       "    }\n",
       "</style>\n",
       "<table border=\"1\" class=\"dataframe\">\n",
       "  <thead>\n",
       "    <tr style=\"text-align: right;\">\n",
       "      <th></th>\n",
       "      <th>County Name</th>\n",
       "      <th>Population</th>\n",
       "      <th>Poverty Rate and Ages</th>\n",
       "      <th>90% C.I. Lower Bound</th>\n",
       "      <th>90% C.I. Upper Bound</th>\n",
       "    </tr>\n",
       "  </thead>\n",
       "  <tbody>\n",
       "    <tr>\n",
       "      <th>0</th>\n",
       "      <td>Douglas Count - CO</td>\n",
       "      <td>351154</td>\n",
       "      <td>2.2</td>\n",
       "      <td>1.5</td>\n",
       "      <td>2.9</td>\n",
       "    </tr>\n",
       "    <tr>\n",
       "      <th>1</th>\n",
       "      <td>Los Alamos County - NM</td>\n",
       "      <td>19369</td>\n",
       "      <td>2.8</td>\n",
       "      <td>1.7</td>\n",
       "      <td>3.9</td>\n",
       "    </tr>\n",
       "    <tr>\n",
       "      <th>2</th>\n",
       "      <td>Falls Church city - VA</td>\n",
       "      <td>14617</td>\n",
       "      <td>2.8</td>\n",
       "      <td>1.8</td>\n",
       "      <td>3.8</td>\n",
       "    </tr>\n",
       "    <tr>\n",
       "      <th>3</th>\n",
       "      <td>Loudoun County - VA</td>\n",
       "      <td>413538</td>\n",
       "      <td>2.8</td>\n",
       "      <td>1.8</td>\n",
       "      <td>3.8</td>\n",
       "    </tr>\n",
       "    <tr>\n",
       "      <th>4</th>\n",
       "      <td>Carver County - MN</td>\n",
       "      <td>105089</td>\n",
       "      <td>3.2</td>\n",
       "      <td>2.2</td>\n",
       "      <td>4.2</td>\n",
       "    </tr>\n",
       "    <tr>\n",
       "      <th>5</th>\n",
       "      <td>Monroe County - IL</td>\n",
       "      <td>34637</td>\n",
       "      <td>3.2</td>\n",
       "      <td>2.1</td>\n",
       "      <td>4.3</td>\n",
       "    </tr>\n",
       "    <tr>\n",
       "      <th>6</th>\n",
       "      <td>Lincoln County - SD</td>\n",
       "      <td>61128</td>\n",
       "      <td>3.2</td>\n",
       "      <td>2.0</td>\n",
       "      <td>4.4</td>\n",
       "    </tr>\n",
       "    <tr>\n",
       "      <th>7</th>\n",
       "      <td>Hunterdon County - NJ</td>\n",
       "      <td>124371</td>\n",
       "      <td>3.2</td>\n",
       "      <td>2.0</td>\n",
       "      <td>4.4</td>\n",
       "    </tr>\n",
       "    <tr>\n",
       "      <th>8</th>\n",
       "      <td>Williamson County - TN</td>\n",
       "      <td>238412</td>\n",
       "      <td>3.3</td>\n",
       "      <td>2.2</td>\n",
       "      <td>4.4</td>\n",
       "    </tr>\n",
       "    <tr>\n",
       "      <th>9</th>\n",
       "      <td>Ozaukee County - WI</td>\n",
       "      <td>89221</td>\n",
       "      <td>3.8</td>\n",
       "      <td>2.6</td>\n",
       "      <td>5.0</td>\n",
       "    </tr>\n",
       "    <tr>\n",
       "      <th>10</th>\n",
       "      <td>Broomfield County - CO</td>\n",
       "      <td>70465</td>\n",
       "      <td>3.8</td>\n",
       "      <td>2.4</td>\n",
       "      <td>5.2</td>\n",
       "    </tr>\n",
       "    <tr>\n",
       "      <th>11</th>\n",
       "      <td>Morgan County - UT</td>\n",
       "      <td>12124</td>\n",
       "      <td>3.9</td>\n",
       "      <td>2.4</td>\n",
       "      <td>5.4</td>\n",
       "    </tr>\n",
       "    <tr>\n",
       "      <th>12</th>\n",
       "      <td>Hamilton County - IN</td>\n",
       "      <td>338011</td>\n",
       "      <td>4.0</td>\n",
       "      <td>2.9</td>\n",
       "      <td>5.1</td>\n",
       "    </tr>\n",
       "    <tr>\n",
       "      <th>13</th>\n",
       "      <td>Delaware County - OH</td>\n",
       "      <td>209177</td>\n",
       "      <td>4.1</td>\n",
       "      <td>3.2</td>\n",
       "      <td>5.0</td>\n",
       "    </tr>\n",
       "    <tr>\n",
       "      <th>14</th>\n",
       "      <td>Oldham County - KY</td>\n",
       "      <td>66799</td>\n",
       "      <td>4.1</td>\n",
       "      <td>2.8</td>\n",
       "      <td>5.4</td>\n",
       "    </tr>\n",
       "    <tr>\n",
       "      <th>15</th>\n",
       "      <td>Dallas County - IA</td>\n",
       "      <td>93453</td>\n",
       "      <td>4.1</td>\n",
       "      <td>2.6</td>\n",
       "      <td>5.6</td>\n",
       "    </tr>\n",
       "    <tr>\n",
       "      <th>16</th>\n",
       "      <td>Livingston County - MI</td>\n",
       "      <td>191995</td>\n",
       "      <td>4.2</td>\n",
       "      <td>2.7</td>\n",
       "      <td>5.7</td>\n",
       "    </tr>\n",
       "    <tr>\n",
       "      <th>17</th>\n",
       "      <td>Scott County - MN</td>\n",
       "      <td>149013</td>\n",
       "      <td>4.2</td>\n",
       "      <td>2.7</td>\n",
       "      <td>5.7</td>\n",
       "    </tr>\n",
       "    <tr>\n",
       "      <th>18</th>\n",
       "      <td>Kendall County - IL</td>\n",
       "      <td>128990</td>\n",
       "      <td>4.4</td>\n",
       "      <td>2.8</td>\n",
       "      <td>6.0</td>\n",
       "    </tr>\n",
       "    <tr>\n",
       "      <th>19</th>\n",
       "      <td>Washington County - WI</td>\n",
       "      <td>136034</td>\n",
       "      <td>4.4</td>\n",
       "      <td>3.0</td>\n",
       "      <td>5.8</td>\n",
       "    </tr>\n",
       "    <tr>\n",
       "      <th>20</th>\n",
       "      <td>Forsyth County - GA</td>\n",
       "      <td>244252</td>\n",
       "      <td>4.4</td>\n",
       "      <td>3.1</td>\n",
       "      <td>5.7</td>\n",
       "    </tr>\n",
       "    <tr>\n",
       "      <th>21</th>\n",
       "      <td>Washington County - MN</td>\n",
       "      <td>262440</td>\n",
       "      <td>4.6</td>\n",
       "      <td>3.1</td>\n",
       "      <td>6.1</td>\n",
       "    </tr>\n",
       "    <tr>\n",
       "      <th>22</th>\n",
       "      <td>Warren County - OH</td>\n",
       "      <td>234602</td>\n",
       "      <td>4.6</td>\n",
       "      <td>3.1</td>\n",
       "      <td>6.1</td>\n",
       "    </tr>\n",
       "    <tr>\n",
       "      <th>23</th>\n",
       "      <td>Rockingham County - NH</td>\n",
       "      <td>309769</td>\n",
       "      <td>4.6</td>\n",
       "      <td>3.2</td>\n",
       "      <td>6.0</td>\n",
       "    </tr>\n",
       "    <tr>\n",
       "      <th>24</th>\n",
       "      <td>Hendricks County - IN</td>\n",
       "      <td>170311</td>\n",
       "      <td>4.7</td>\n",
       "      <td>3.1</td>\n",
       "      <td>6.3</td>\n",
       "    </tr>\n",
       "    <tr>\n",
       "      <th>25</th>\n",
       "      <td>Waukesha County - WI</td>\n",
       "      <td>404198</td>\n",
       "      <td>4.7</td>\n",
       "      <td>3.6</td>\n",
       "      <td>5.8</td>\n",
       "    </tr>\n",
       "    <tr>\n",
       "      <th>26</th>\n",
       "      <td>Teton County WY</td>\n",
       "      <td>23464</td>\n",
       "      <td>4.7</td>\n",
       "      <td>2.7</td>\n",
       "      <td>6.7</td>\n",
       "    </tr>\n",
       "    <tr>\n",
       "      <th>27</th>\n",
       "      <td>Wright County - MN</td>\n",
       "      <td>138377</td>\n",
       "      <td>4.7</td>\n",
       "      <td>3.3</td>\n",
       "      <td>6.1</td>\n",
       "    </tr>\n",
       "    <tr>\n",
       "      <th>28</th>\n",
       "      <td>St. Charles County - MO</td>\n",
       "      <td>402022</td>\n",
       "      <td>4.8</td>\n",
       "      <td>3.3</td>\n",
       "      <td>6.3</td>\n",
       "    </tr>\n",
       "    <tr>\n",
       "      <th>29</th>\n",
       "      <td>Hanover County - VA</td>\n",
       "      <td>107766</td>\n",
       "      <td>4.8</td>\n",
       "      <td>3.0</td>\n",
       "      <td>6.6</td>\n",
       "    </tr>\n",
       "  </tbody>\n",
       "</table>\n",
       "</div>"
      ],
      "text/plain": [
       "                 County Name   Population   Poverty Rate and Ages  \\\n",
       "0         Douglas Count - CO       351154                     2.2   \n",
       "1     Los Alamos County - NM        19369                     2.8   \n",
       "2     Falls Church city - VA        14617                     2.8   \n",
       "3        Loudoun County - VA       413538                     2.8   \n",
       "4         Carver County - MN       105089                     3.2   \n",
       "5         Monroe County - IL        34637                     3.2   \n",
       "6        Lincoln County - SD        61128                     3.2   \n",
       "7      Hunterdon County - NJ       124371                     3.2   \n",
       "8     Williamson County - TN       238412                     3.3   \n",
       "9        Ozaukee County - WI        89221                     3.8   \n",
       "10    Broomfield County - CO        70465                     3.8   \n",
       "11        Morgan County - UT        12124                     3.9   \n",
       "12      Hamilton County - IN       338011                     4.0   \n",
       "13      Delaware County - OH       209177                     4.1   \n",
       "14        Oldham County - KY        66799                     4.1   \n",
       "15        Dallas County - IA        93453                     4.1   \n",
       "16    Livingston County - MI       191995                     4.2   \n",
       "17         Scott County - MN       149013                     4.2   \n",
       "18       Kendall County - IL       128990                     4.4   \n",
       "19    Washington County - WI       136034                     4.4   \n",
       "20       Forsyth County - GA       244252                     4.4   \n",
       "21    Washington County - MN       262440                     4.6   \n",
       "22        Warren County - OH       234602                     4.6   \n",
       "23    Rockingham County - NH       309769                     4.6   \n",
       "24     Hendricks County - IN       170311                     4.7   \n",
       "25      Waukesha County - WI       404198                     4.7   \n",
       "26           Teton County WY        23464                     4.7   \n",
       "27        Wright County - MN       138377                     4.7   \n",
       "28   St. Charles County - MO       402022                     4.8   \n",
       "29       Hanover County - VA       107766                     4.8   \n",
       "\n",
       "     90% C.I. Lower Bound   90% C.I. Upper Bound  \n",
       "0                     1.5                    2.9  \n",
       "1                     1.7                    3.9  \n",
       "2                     1.8                    3.8  \n",
       "3                     1.8                    3.8  \n",
       "4                     2.2                    4.2  \n",
       "5                     2.1                    4.3  \n",
       "6                     2.0                    4.4  \n",
       "7                     2.0                    4.4  \n",
       "8                     2.2                    4.4  \n",
       "9                     2.6                    5.0  \n",
       "10                    2.4                    5.2  \n",
       "11                    2.4                    5.4  \n",
       "12                    2.9                    5.1  \n",
       "13                    3.2                    5.0  \n",
       "14                    2.8                    5.4  \n",
       "15                    2.6                    5.6  \n",
       "16                    2.7                    5.7  \n",
       "17                    2.7                    5.7  \n",
       "18                    2.8                    6.0  \n",
       "19                    3.0                    5.8  \n",
       "20                    3.1                    5.7  \n",
       "21                    3.1                    6.1  \n",
       "22                    3.1                    6.1  \n",
       "23                    3.2                    6.0  \n",
       "24                    3.1                    6.3  \n",
       "25                    3.6                    5.8  \n",
       "26                    2.7                    6.7  \n",
       "27                    3.3                    6.1  \n",
       "28                    3.3                    6.3  \n",
       "29                    3.0                    6.6  "
      ]
     },
     "execution_count": 17,
     "metadata": {},
     "output_type": "execute_result"
    }
   ],
   "source": [
    "data"
   ]
  },
  {
   "cell_type": "code",
   "execution_count": 21,
   "id": "9ff36f25",
   "metadata": {},
   "outputs": [
    {
     "data": {
      "text/plain": [
       " 90% C.I. Lower Bound        AxesSubplot(0.125,0.125;0.227941x0.755)\n",
       " 90% C.I. Upper Bound     AxesSubplot(0.398529,0.125;0.227941x0.755)\n",
       " Poverty Rate and Ages    AxesSubplot(0.672059,0.125;0.227941x0.755)\n",
       "dtype: object"
      ]
     },
     "execution_count": 21,
     "metadata": {},
     "output_type": "execute_result"
    },
    {
     "data": {
      "image/png": "[encoded data removed]",
      "text/plain": [
       "<Figure size 432x288 with 3 Axes>"
      ]
     },
     "metadata": {
      "needs_background": "light"
     },
     "output_type": "display_data"
    }
   ],
   "source": [
    "df.plot.box(' Population')"
   ]
  },
  {
   "cell_type": "code",
   "execution_count": 22,
   "id": "ae07c7a9",
   "metadata": {},
   "outputs": [
    {
     "data": {
      "text/plain": [
       "<AxesSubplot:>"
      ]
     },
     "execution_count": 22,
     "metadata": {},
     "output_type": "execute_result"
    },
    {
     "data": {
      "image/png": "[encoded data removed]",
      "text/plain": [
       "<Figure size 432x288 with 1 Axes>"
      ]
     },
     "metadata": {
      "needs_background": "light"
     },
     "output_type": "display_data"
    }
   ],
   "source": [
    "df[' Population'].plot()"
   ]
  },
  {
   "cell_type": "code",
   "execution_count": 24,
   "id": "4b130eaf",
   "metadata": {},
   "outputs": [
    {
     "data": {
      "text/plain": [
       "(array([3], dtype=int64),)"
      ]
     },
     "execution_count": 24,
     "metadata": {},
     "output_type": "execute_result"
    }
   ],
   "source": [
    "inddex = np.where(data[' Population'] == max(data[' Population']))\n",
    "inddex"
   ]
  },
  {
   "cell_type": "code",
   "execution_count": 29,
   "id": "4566bbc5",
   "metadata": {},
   "outputs": [
    {
     "data": {
      "text/plain": [
       "(array([11], dtype=int64),)"
      ]
     },
     "execution_count": 29,
     "metadata": {},
     "output_type": "execute_result"
    }
   ],
   "source": [
    "index = np.where(data[' Population'] == min(data[' Population']))\n",
    "index"
   ]
  },
  {
   "cell_type": "code",
   "execution_count": 31,
   "id": "8cde07bb",
   "metadata": {},
   "outputs": [
    {
     "data": {
      "text/plain": [
       "3    2.8\n",
       "Name:  Poverty Rate and Ages, dtype: float64"
      ]
     },
     "execution_count": 31,
     "metadata": {},
     "output_type": "execute_result"
    }
   ],
   "source": [
    "data[' Poverty Rate and Ages'][(data[' Population'] == 413538)]"
   ]
  },
  {
   "cell_type": "code",
   "execution_count": 32,
   "id": "0e285091",
   "metadata": {},
   "outputs": [
    {
     "data": {
      "text/plain": [
       "11    3.9\n",
       "Name:  Poverty Rate and Ages, dtype: float64"
      ]
     },
     "execution_count": 32,
     "metadata": {},
     "output_type": "execute_result"
    }
   ],
   "source": [
    " data[' Poverty Rate and Ages'][(data[' Population'] == 12124)]"
   ]
  },
  {
   "cell_type": "code",
   "execution_count": 35,
   "id": "b9ae0064",
   "metadata": {},
   "outputs": [
    {
     "data": {
      "text/plain": [
       "<BarContainer object of 30 artists>"
      ]
     },
     "execution_count": 35,
     "metadata": {},
     "output_type": "execute_result"
    },
    {
     "data": {
      "image/png": "[encoded data removed]",
      "text/plain": [
       "<Figure size 432x288 with 1 Axes>"
      ]
     },
     "metadata": {
      "needs_background": "light"
     },
     "output_type": "display_data"
    }
   ],
   "source": [
    "plt.bar(data[' Poverty Rate and Ages'], data[' Population'], align = \"center\")"
   ]
  },
  {
   "cell_type": "code",
   "execution_count": 36,
   "id": "2d7e1c47",
   "metadata": {},
   "outputs": [
    {
     "data": {
      "text/plain": [
       "{'whiskers': [<matplotlib.lines.Line2D at 0x1f7c24920d0>,\n",
       "  <matplotlib.lines.Line2D at 0x1f7c24923a0>],\n",
       " 'caps': [<matplotlib.lines.Line2D at 0x1f7c2492670>,\n",
       "  <matplotlib.lines.Line2D at 0x1f7c2492940>],\n",
       " 'boxes': [<matplotlib.lines.Line2D at 0x1f7c2484ee0>],\n",
       " 'medians': [<matplotlib.lines.Line2D at 0x1f7c2492c10>],\n",
       " 'fliers': [<matplotlib.lines.Line2D at 0x1f7c2492ee0>],\n",
       " 'means': []}"
      ]
     },
     "execution_count": 36,
     "metadata": {},
     "output_type": "execute_result"
    },
    {
     "data": {
      "image/png": "[encoded data removed]",
      "text/plain": [
       "<Figure size 432x288 with 1 Axes>"
      ]
     },
     "metadata": {
      "needs_background": "light"
     },
     "output_type": "display_data"
    }
   ],
   "source": [
    "plt.boxplot(data[' Poverty Rate and Ages'])"
   ]
  },
  {
   "cell_type": "code",
   "execution_count": 38,
   "id": "017a65bb",
   "metadata": {},
   "outputs": [
    {
     "data": {
      "text/plain": [
       "<matplotlib.collections.PathCollection at 0x1f7c2543370>"
      ]
     },
     "execution_count": 38,
     "metadata": {},
     "output_type": "execute_result"
    },
    {
     "data": {
      "image/png": "[encoded data removed]",
      "text/plain": [
       "<Figure size 432x288 with 1 Axes>"
      ]
     },
     "metadata": {
      "needs_background": "light"
     },
     "output_type": "display_data"
    }
   ],
   "source": [
    "plt.xlabel('Poverty rates')\n",
    "plt.ylabel(' 90% C.I. Lower Bound')\n",
    "plt.scatter(data[' Poverty Rate and Ages'],data[' 90% C.I. Lower Bound'])"
   ]
  },
  {
   "cell_type": "code",
   "execution_count": 41,
   "id": "e4462097",
   "metadata": {},
   "outputs": [
    {
     "name": "stderr",
     "output_type": "stream",
     "text": [
      "D:\\Anaconda\\lib\\site-packages\\seaborn\\_decorators.py:36: FutureWarning: Pass the following variables as keyword args: x, y. From version 0.12, the only valid positional argument will be `data`, and passing other arguments without an explicit keyword will result in an error or misinterpretation.\n",
      "  warnings.warn(\n"
     ]
    },
    {
     "data": {
      "text/plain": [
       "<AxesSubplot:xlabel=' Poverty Rate and Ages', ylabel=' 90% C.I. Upper Bound'>"
      ]
     },
     "execution_count": 41,
     "metadata": {},
     "output_type": "execute_result"
    },
    {
     "data": {
      "image/png": "[encoded data removed]",
      "text/plain": [
       "<Figure size 432x288 with 1 Axes>"
      ]
     },
     "metadata": {
      "needs_background": "light"
     },
     "output_type": "display_data"
    }
   ],
   "source": [
    "sns.stripplot(data[' Poverty Rate and Ages'],data[' 90% C.I. Upper Bound'])"
   ]
  },
  {
   "cell_type": "code",
   "execution_count": 42,
   "id": "931e5182",
   "metadata": {},
   "outputs": [
    {
     "data": {
      "image/png": "[encoded data removed]",
      "text/plain": [
       "<Figure size 432x288 with 1 Axes>"
      ]
     },
     "metadata": {
      "needs_background": "light"
     },
     "output_type": "display_data"
    }
   ],
   "source": [
    "sns.violinplot(x = ' Population', data = data)\n",
    "plt.show()"
   ]
  },
  {
   "cell_type": "code",
   "execution_count": 43,
   "id": "3b3ce296",
   "metadata": {},
   "outputs": [
    {
     "name": "stderr",
     "output_type": "stream",
     "text": [
      "D:\\Anaconda\\lib\\site-packages\\seaborn\\distributions.py:2619: FutureWarning: `distplot` is a deprecated function and will be removed in a future version. Please adapt your code to use either `displot` (a figure-level function with similar flexibility) or `histplot` (an axes-level function for histograms).\n",
      "  warnings.warn(msg, FutureWarning)\n"
     ]
    },
    {
     "data": {
      "text/plain": [
       "<AxesSubplot:xlabel=' Population', ylabel='Density'>"
      ]
     },
     "execution_count": 43,
     "metadata": {},
     "output_type": "execute_result"
    },
    {
     "data": {
      "image/png": "[encoded data removed]",
      "text/plain": [
       "<Figure size 432x288 with 1 Axes>"
      ]
     },
     "metadata": {
      "needs_background": "light"
     },
     "output_type": "display_data"
    }
   ],
   "source": [
    "sns.distplot(data[' Population'], bins = 10)"
   ]
  },
  {
   "cell_type": "code",
   "execution_count": 44,
   "id": "11c7ffdb",
   "metadata": {},
   "outputs": [
    {
     "data": {
      "text/plain": [
       "<seaborn.axisgrid.PairGrid at 0x1f7c26f11c0>"
      ]
     },
     "execution_count": 44,
     "metadata": {},
     "output_type": "execute_result"
    },
    {
     "data": {
      "image/png": "[encoded data removed]",
      "text/plain": [
       "<Figure size 720x720 with 20 Axes>"
      ]
     },
     "metadata": {
      "needs_background": "light"
     },
     "output_type": "display_data"
    }
   ],
   "source": [
    "sns.pairplot(data)"
   ]
  },
  {
   "cell_type": "code",
   "execution_count": null,
   "id": "e0eeda80",
   "metadata": {},
   "outputs": [],
   "source": []
  }
 ],
 "metadata": {
  "kernelspec": {
   "display_name": "Python 3 (ipykernel)",
   "language": "python",
   "name": "python3"
  },
  "language_info": {
   "codemirror_mode": {
    "name": "ipython",
    "version": 3
   },
   "file_extension": ".py",
   "mimetype": "text/x-python",
   "name": "python",
   "nbconvert_exporter": "python",
   "pygments_lexer": "ipython3",
   "version": "3.9.12"
  }
 },
 "nbformat": 4,
 "nbformat_minor": 5
}
