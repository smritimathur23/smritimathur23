{
 "cells": [
  {
   "cell_type": "markdown",
   "id": "6b6f9b18",
   "metadata": {},
   "source": [
    "# Auto Insurance Claims Amount Data Science Project\n",
    "\n",
    "Following information is provided in dataset: \n",
    "1. Customer\n",
    "2. Country \n",
    "3. State Code\n",
    "4. State\n",
    "5. Claim Amount\n",
    "6. Response\n",
    "7. Coverage\n",
    "8. Education\n",
    "9. Effective To Date\n",
    "10. EmploymentStatus\n",
    "11. Gender\n",
    "12. Income\n",
    "13. Location Code\n",
    "14. Marital Status\n",
    "15. Monthly Premium Auto\n",
    "16. Months Since Last Claim\n",
    "17. Months Since Policy Inception\n",
    "18. Number of Open Complaints\n",
    "19. Number of Policies\n",
    "20. Policy Type\n",
    "21. Policy\n",
    "22. Claim Reason\n",
    "23. Sales Channel\n",
    "24. Total Claim Amount\n",
    "25. Vehicle Class\n",
    "26. Vehicle Size"
   ]
  },
  {
   "cell_type": "code",
   "execution_count": 1,
   "id": "bbfe7c49",
   "metadata": {},
   "outputs": [],
   "source": [
    "import pandas as pd\n",
    "import numpy as np \n",
    "import scipy.stats as st\n",
    "import matplotlib.pyplot as plt \n",
    "import seaborn as sns "
   ]
  },
  {
   "cell_type": "code",
   "execution_count": 2,
   "id": "f3112391",
   "metadata": {},
   "outputs": [],
   "source": [
    "#Importing the dataset using Pandas \n",
    "df = pd.read_csv(\"Auto_Insurance_Claims_amount.csv\")"
   ]
  },
  {
   "cell_type": "code",
   "execution_count": 3,
   "id": "b88bcaf7",
   "metadata": {},
   "outputs": [
    {
     "data": {
      "text/html": [
       "<div>\n",
       "<style scoped>\n",
       "    .dataframe tbody tr th:only-of-type {\n",
       "        vertical-align: middle;\n",
       "    }\n",
       "\n",
       "    .dataframe tbody tr th {\n",
       "        vertical-align: top;\n",
       "    }\n",
       "\n",
       "    .dataframe thead th {\n",
       "        text-align: right;\n",
       "    }\n",
       "</style>\n",
       "<table border=\"1\" class=\"dataframe\">\n",
       "  <thead>\n",
       "    <tr style=\"text-align: right;\">\n",
       "      <th></th>\n",
       "      <th>Customer</th>\n",
       "      <th>Country</th>\n",
       "      <th>State Code</th>\n",
       "      <th>State</th>\n",
       "      <th>Claim Amount</th>\n",
       "      <th>Response</th>\n",
       "      <th>Coverage</th>\n",
       "      <th>Education</th>\n",
       "      <th>Effective To Date</th>\n",
       "      <th>EmploymentStatus</th>\n",
       "      <th>...</th>\n",
       "      <th>Months Since Policy Inception</th>\n",
       "      <th>Number of Open Complaints</th>\n",
       "      <th>Number of Policies</th>\n",
       "      <th>Policy Type</th>\n",
       "      <th>Policy</th>\n",
       "      <th>Claim Reason</th>\n",
       "      <th>Sales Channel</th>\n",
       "      <th>Total Claim Amount</th>\n",
       "      <th>Vehicle Class</th>\n",
       "      <th>Vehicle Size</th>\n",
       "    </tr>\n",
       "  </thead>\n",
       "  <tbody>\n",
       "    <tr>\n",
       "      <th>0</th>\n",
       "      <td>BU79786</td>\n",
       "      <td>US</td>\n",
       "      <td>KS</td>\n",
       "      <td>Kansas</td>\n",
       "      <td>276.351928</td>\n",
       "      <td>No</td>\n",
       "      <td>Basic</td>\n",
       "      <td>Bachelor</td>\n",
       "      <td>2/24/11</td>\n",
       "      <td>Employed</td>\n",
       "      <td>...</td>\n",
       "      <td>5</td>\n",
       "      <td>0</td>\n",
       "      <td>1</td>\n",
       "      <td>Corporate Auto</td>\n",
       "      <td>Corporate L3</td>\n",
       "      <td>Collision</td>\n",
       "      <td>Agent</td>\n",
       "      <td>384.811147</td>\n",
       "      <td>Two-Door Car</td>\n",
       "      <td>Medsize</td>\n",
       "    </tr>\n",
       "    <tr>\n",
       "      <th>1</th>\n",
       "      <td>QZ44356</td>\n",
       "      <td>US</td>\n",
       "      <td>NE</td>\n",
       "      <td>Nebraska</td>\n",
       "      <td>697.953590</td>\n",
       "      <td>No</td>\n",
       "      <td>Extended</td>\n",
       "      <td>Bachelor</td>\n",
       "      <td>1/31/11</td>\n",
       "      <td>Unemployed</td>\n",
       "      <td>...</td>\n",
       "      <td>42</td>\n",
       "      <td>0</td>\n",
       "      <td>8</td>\n",
       "      <td>Personal Auto</td>\n",
       "      <td>Personal L3</td>\n",
       "      <td>Scratch/Dent</td>\n",
       "      <td>Agent</td>\n",
       "      <td>1131.464935</td>\n",
       "      <td>Four-Door Car</td>\n",
       "      <td>Medsize</td>\n",
       "    </tr>\n",
       "    <tr>\n",
       "      <th>2</th>\n",
       "      <td>AI49188</td>\n",
       "      <td>US</td>\n",
       "      <td>OK</td>\n",
       "      <td>Oklahoma</td>\n",
       "      <td>1288.743165</td>\n",
       "      <td>No</td>\n",
       "      <td>Premium</td>\n",
       "      <td>Bachelor</td>\n",
       "      <td>2/19/11</td>\n",
       "      <td>Employed</td>\n",
       "      <td>...</td>\n",
       "      <td>38</td>\n",
       "      <td>0</td>\n",
       "      <td>2</td>\n",
       "      <td>Personal Auto</td>\n",
       "      <td>Personal L3</td>\n",
       "      <td>Collision</td>\n",
       "      <td>Agent</td>\n",
       "      <td>566.472247</td>\n",
       "      <td>Two-Door Car</td>\n",
       "      <td>Medsize</td>\n",
       "    </tr>\n",
       "    <tr>\n",
       "      <th>3</th>\n",
       "      <td>WW63253</td>\n",
       "      <td>US</td>\n",
       "      <td>MO</td>\n",
       "      <td>Missouri</td>\n",
       "      <td>764.586183</td>\n",
       "      <td>No</td>\n",
       "      <td>Basic</td>\n",
       "      <td>Bachelor</td>\n",
       "      <td>1/20/11</td>\n",
       "      <td>Unemployed</td>\n",
       "      <td>...</td>\n",
       "      <td>65</td>\n",
       "      <td>0</td>\n",
       "      <td>7</td>\n",
       "      <td>Corporate Auto</td>\n",
       "      <td>Corporate L2</td>\n",
       "      <td>Collision</td>\n",
       "      <td>Call Center</td>\n",
       "      <td>529.881344</td>\n",
       "      <td>SUV</td>\n",
       "      <td>Medsize</td>\n",
       "    </tr>\n",
       "    <tr>\n",
       "      <th>4</th>\n",
       "      <td>HB64268</td>\n",
       "      <td>US</td>\n",
       "      <td>KS</td>\n",
       "      <td>Kansas</td>\n",
       "      <td>281.369258</td>\n",
       "      <td>No</td>\n",
       "      <td>Basic</td>\n",
       "      <td>Bachelor</td>\n",
       "      <td>2/3/11</td>\n",
       "      <td>Employed</td>\n",
       "      <td>...</td>\n",
       "      <td>44</td>\n",
       "      <td>0</td>\n",
       "      <td>1</td>\n",
       "      <td>Personal Auto</td>\n",
       "      <td>Personal L1</td>\n",
       "      <td>Collision</td>\n",
       "      <td>Agent</td>\n",
       "      <td>138.130879</td>\n",
       "      <td>Four-Door Car</td>\n",
       "      <td>Medsize</td>\n",
       "    </tr>\n",
       "    <tr>\n",
       "      <th>...</th>\n",
       "      <td>...</td>\n",
       "      <td>...</td>\n",
       "      <td>...</td>\n",
       "      <td>...</td>\n",
       "      <td>...</td>\n",
       "      <td>...</td>\n",
       "      <td>...</td>\n",
       "      <td>...</td>\n",
       "      <td>...</td>\n",
       "      <td>...</td>\n",
       "      <td>...</td>\n",
       "      <td>...</td>\n",
       "      <td>...</td>\n",
       "      <td>...</td>\n",
       "      <td>...</td>\n",
       "      <td>...</td>\n",
       "      <td>...</td>\n",
       "      <td>...</td>\n",
       "      <td>...</td>\n",
       "      <td>...</td>\n",
       "      <td>...</td>\n",
       "    </tr>\n",
       "    <tr>\n",
       "      <th>9129</th>\n",
       "      <td>LA72316</td>\n",
       "      <td>US</td>\n",
       "      <td>MO</td>\n",
       "      <td>Missouri</td>\n",
       "      <td>2340.598798</td>\n",
       "      <td>No</td>\n",
       "      <td>Basic</td>\n",
       "      <td>Bachelor</td>\n",
       "      <td>2/10/11</td>\n",
       "      <td>Employed</td>\n",
       "      <td>...</td>\n",
       "      <td>89</td>\n",
       "      <td>0</td>\n",
       "      <td>2</td>\n",
       "      <td>Personal Auto</td>\n",
       "      <td>Personal L1</td>\n",
       "      <td>Hail</td>\n",
       "      <td>Web</td>\n",
       "      <td>198.234764</td>\n",
       "      <td>Four-Door Car</td>\n",
       "      <td>Medsize</td>\n",
       "    </tr>\n",
       "    <tr>\n",
       "      <th>9130</th>\n",
       "      <td>PK87824</td>\n",
       "      <td>US</td>\n",
       "      <td>MO</td>\n",
       "      <td>Missouri</td>\n",
       "      <td>309.651122</td>\n",
       "      <td>Yes</td>\n",
       "      <td>Extended</td>\n",
       "      <td>College</td>\n",
       "      <td>2/12/11</td>\n",
       "      <td>Employed</td>\n",
       "      <td>...</td>\n",
       "      <td>28</td>\n",
       "      <td>0</td>\n",
       "      <td>1</td>\n",
       "      <td>Corporate Auto</td>\n",
       "      <td>Corporate L3</td>\n",
       "      <td>Collision</td>\n",
       "      <td>Branch</td>\n",
       "      <td>379.200000</td>\n",
       "      <td>Four-Door Car</td>\n",
       "      <td>Medsize</td>\n",
       "    </tr>\n",
       "    <tr>\n",
       "      <th>9131</th>\n",
       "      <td>TD14365</td>\n",
       "      <td>US</td>\n",
       "      <td>MO</td>\n",
       "      <td>Missouri</td>\n",
       "      <td>816.389043</td>\n",
       "      <td>No</td>\n",
       "      <td>Extended</td>\n",
       "      <td>Bachelor</td>\n",
       "      <td>2/6/11</td>\n",
       "      <td>Unemployed</td>\n",
       "      <td>...</td>\n",
       "      <td>37</td>\n",
       "      <td>3</td>\n",
       "      <td>2</td>\n",
       "      <td>Corporate Auto</td>\n",
       "      <td>Corporate L2</td>\n",
       "      <td>Collision</td>\n",
       "      <td>Branch</td>\n",
       "      <td>790.784983</td>\n",
       "      <td>Four-Door Car</td>\n",
       "      <td>Medsize</td>\n",
       "    </tr>\n",
       "    <tr>\n",
       "      <th>9132</th>\n",
       "      <td>UP19263</td>\n",
       "      <td>US</td>\n",
       "      <td>MO</td>\n",
       "      <td>Missouri</td>\n",
       "      <td>752.444244</td>\n",
       "      <td>No</td>\n",
       "      <td>Extended</td>\n",
       "      <td>College</td>\n",
       "      <td>2/3/11</td>\n",
       "      <td>Employed</td>\n",
       "      <td>...</td>\n",
       "      <td>3</td>\n",
       "      <td>0</td>\n",
       "      <td>3</td>\n",
       "      <td>Personal Auto</td>\n",
       "      <td>Personal L2</td>\n",
       "      <td>Scratch/Dent</td>\n",
       "      <td>Branch</td>\n",
       "      <td>691.200000</td>\n",
       "      <td>Four-Door Car</td>\n",
       "      <td>Large</td>\n",
       "    </tr>\n",
       "    <tr>\n",
       "      <th>9133</th>\n",
       "      <td>Y167826</td>\n",
       "      <td>US</td>\n",
       "      <td>MO</td>\n",
       "      <td>Missouri</td>\n",
       "      <td>261.183687</td>\n",
       "      <td>No</td>\n",
       "      <td>Extended</td>\n",
       "      <td>College</td>\n",
       "      <td>2/14/11</td>\n",
       "      <td>Unemployed</td>\n",
       "      <td>...</td>\n",
       "      <td>90</td>\n",
       "      <td>0</td>\n",
       "      <td>1</td>\n",
       "      <td>Corporate Auto</td>\n",
       "      <td>Corporate L3</td>\n",
       "      <td>Other</td>\n",
       "      <td>Call Center</td>\n",
       "      <td>369.600000</td>\n",
       "      <td>Two-Door Car</td>\n",
       "      <td>Medsize</td>\n",
       "    </tr>\n",
       "  </tbody>\n",
       "</table>\n",
       "<p>9134 rows × 26 columns</p>\n",
       "</div>"
      ],
      "text/plain": [
       "     Customer Country State Code     State  Claim Amount Response  Coverage  \\\n",
       "0     BU79786      US         KS    Kansas    276.351928       No     Basic   \n",
       "1     QZ44356      US         NE  Nebraska    697.953590       No  Extended   \n",
       "2     AI49188      US         OK  Oklahoma   1288.743165       No   Premium   \n",
       "3     WW63253      US         MO  Missouri    764.586183       No     Basic   \n",
       "4     HB64268      US         KS    Kansas    281.369258       No     Basic   \n",
       "...       ...     ...        ...       ...           ...      ...       ...   \n",
       "9129  LA72316      US         MO  Missouri   2340.598798       No     Basic   \n",
       "9130  PK87824      US         MO  Missouri    309.651122      Yes  Extended   \n",
       "9131  TD14365      US         MO  Missouri    816.389043       No  Extended   \n",
       "9132  UP19263      US         MO  Missouri    752.444244       No  Extended   \n",
       "9133  Y167826      US         MO  Missouri    261.183687       No  Extended   \n",
       "\n",
       "     Education Effective To Date EmploymentStatus  ...  \\\n",
       "0     Bachelor           2/24/11         Employed  ...   \n",
       "1     Bachelor           1/31/11       Unemployed  ...   \n",
       "2     Bachelor           2/19/11         Employed  ...   \n",
       "3     Bachelor           1/20/11       Unemployed  ...   \n",
       "4     Bachelor            2/3/11         Employed  ...   \n",
       "...        ...               ...              ...  ...   \n",
       "9129  Bachelor           2/10/11         Employed  ...   \n",
       "9130   College           2/12/11         Employed  ...   \n",
       "9131  Bachelor            2/6/11       Unemployed  ...   \n",
       "9132   College            2/3/11         Employed  ...   \n",
       "9133   College           2/14/11       Unemployed  ...   \n",
       "\n",
       "     Months Since Policy Inception  Number of Open Complaints  \\\n",
       "0                                5                          0   \n",
       "1                               42                          0   \n",
       "2                               38                          0   \n",
       "3                               65                          0   \n",
       "4                               44                          0   \n",
       "...                            ...                        ...   \n",
       "9129                            89                          0   \n",
       "9130                            28                          0   \n",
       "9131                            37                          3   \n",
       "9132                             3                          0   \n",
       "9133                            90                          0   \n",
       "\n",
       "     Number of Policies     Policy Type        Policy  Claim Reason  \\\n",
       "0                     1  Corporate Auto  Corporate L3     Collision   \n",
       "1                     8   Personal Auto   Personal L3  Scratch/Dent   \n",
       "2                     2   Personal Auto   Personal L3     Collision   \n",
       "3                     7  Corporate Auto  Corporate L2     Collision   \n",
       "4                     1   Personal Auto   Personal L1     Collision   \n",
       "...                 ...             ...           ...           ...   \n",
       "9129                  2   Personal Auto   Personal L1          Hail   \n",
       "9130                  1  Corporate Auto  Corporate L3     Collision   \n",
       "9131                  2  Corporate Auto  Corporate L2     Collision   \n",
       "9132                  3   Personal Auto   Personal L2  Scratch/Dent   \n",
       "9133                  1  Corporate Auto  Corporate L3         Other   \n",
       "\n",
       "      Sales Channel  Total Claim Amount  Vehicle Class Vehicle Size  \n",
       "0             Agent          384.811147   Two-Door Car      Medsize  \n",
       "1             Agent         1131.464935  Four-Door Car      Medsize  \n",
       "2             Agent          566.472247   Two-Door Car      Medsize  \n",
       "3       Call Center          529.881344            SUV      Medsize  \n",
       "4             Agent          138.130879  Four-Door Car      Medsize  \n",
       "...             ...                 ...            ...          ...  \n",
       "9129            Web          198.234764  Four-Door Car      Medsize  \n",
       "9130         Branch          379.200000  Four-Door Car      Medsize  \n",
       "9131         Branch          790.784983  Four-Door Car      Medsize  \n",
       "9132         Branch          691.200000  Four-Door Car        Large  \n",
       "9133    Call Center          369.600000   Two-Door Car      Medsize  \n",
       "\n",
       "[9134 rows x 26 columns]"
      ]
     },
     "execution_count": 3,
     "metadata": {},
     "output_type": "execute_result"
    }
   ],
   "source": [
    "df"
   ]
  },
  {
   "cell_type": "code",
   "execution_count": 4,
   "id": "f71619ff",
   "metadata": {},
   "outputs": [],
   "source": [
    "#Replacing the index with the Customer ID\n",
    "df.set_index('Customer', inplace = True)"
   ]
  },
  {
   "cell_type": "code",
   "execution_count": 5,
   "id": "cefc3881",
   "metadata": {},
   "outputs": [
    {
     "data": {
      "text/html": [
       "<div>\n",
       "<style scoped>\n",
       "    .dataframe tbody tr th:only-of-type {\n",
       "        vertical-align: middle;\n",
       "    }\n",
       "\n",
       "    .dataframe tbody tr th {\n",
       "        vertical-align: top;\n",
       "    }\n",
       "\n",
       "    .dataframe thead th {\n",
       "        text-align: right;\n",
       "    }\n",
       "</style>\n",
       "<table border=\"1\" class=\"dataframe\">\n",
       "  <thead>\n",
       "    <tr style=\"text-align: right;\">\n",
       "      <th></th>\n",
       "      <th>Country</th>\n",
       "      <th>State Code</th>\n",
       "      <th>State</th>\n",
       "      <th>Claim Amount</th>\n",
       "      <th>Response</th>\n",
       "      <th>Coverage</th>\n",
       "      <th>Education</th>\n",
       "      <th>Effective To Date</th>\n",
       "      <th>EmploymentStatus</th>\n",
       "      <th>Gender</th>\n",
       "      <th>...</th>\n",
       "      <th>Months Since Policy Inception</th>\n",
       "      <th>Number of Open Complaints</th>\n",
       "      <th>Number of Policies</th>\n",
       "      <th>Policy Type</th>\n",
       "      <th>Policy</th>\n",
       "      <th>Claim Reason</th>\n",
       "      <th>Sales Channel</th>\n",
       "      <th>Total Claim Amount</th>\n",
       "      <th>Vehicle Class</th>\n",
       "      <th>Vehicle Size</th>\n",
       "    </tr>\n",
       "    <tr>\n",
       "      <th>Customer</th>\n",
       "      <th></th>\n",
       "      <th></th>\n",
       "      <th></th>\n",
       "      <th></th>\n",
       "      <th></th>\n",
       "      <th></th>\n",
       "      <th></th>\n",
       "      <th></th>\n",
       "      <th></th>\n",
       "      <th></th>\n",
       "      <th></th>\n",
       "      <th></th>\n",
       "      <th></th>\n",
       "      <th></th>\n",
       "      <th></th>\n",
       "      <th></th>\n",
       "      <th></th>\n",
       "      <th></th>\n",
       "      <th></th>\n",
       "      <th></th>\n",
       "      <th></th>\n",
       "    </tr>\n",
       "  </thead>\n",
       "  <tbody>\n",
       "    <tr>\n",
       "      <th>BU79786</th>\n",
       "      <td>US</td>\n",
       "      <td>KS</td>\n",
       "      <td>Kansas</td>\n",
       "      <td>276.351928</td>\n",
       "      <td>No</td>\n",
       "      <td>Basic</td>\n",
       "      <td>Bachelor</td>\n",
       "      <td>2/24/11</td>\n",
       "      <td>Employed</td>\n",
       "      <td>F</td>\n",
       "      <td>...</td>\n",
       "      <td>5</td>\n",
       "      <td>0</td>\n",
       "      <td>1</td>\n",
       "      <td>Corporate Auto</td>\n",
       "      <td>Corporate L3</td>\n",
       "      <td>Collision</td>\n",
       "      <td>Agent</td>\n",
       "      <td>384.811147</td>\n",
       "      <td>Two-Door Car</td>\n",
       "      <td>Medsize</td>\n",
       "    </tr>\n",
       "    <tr>\n",
       "      <th>QZ44356</th>\n",
       "      <td>US</td>\n",
       "      <td>NE</td>\n",
       "      <td>Nebraska</td>\n",
       "      <td>697.953590</td>\n",
       "      <td>No</td>\n",
       "      <td>Extended</td>\n",
       "      <td>Bachelor</td>\n",
       "      <td>1/31/11</td>\n",
       "      <td>Unemployed</td>\n",
       "      <td>F</td>\n",
       "      <td>...</td>\n",
       "      <td>42</td>\n",
       "      <td>0</td>\n",
       "      <td>8</td>\n",
       "      <td>Personal Auto</td>\n",
       "      <td>Personal L3</td>\n",
       "      <td>Scratch/Dent</td>\n",
       "      <td>Agent</td>\n",
       "      <td>1131.464935</td>\n",
       "      <td>Four-Door Car</td>\n",
       "      <td>Medsize</td>\n",
       "    </tr>\n",
       "    <tr>\n",
       "      <th>AI49188</th>\n",
       "      <td>US</td>\n",
       "      <td>OK</td>\n",
       "      <td>Oklahoma</td>\n",
       "      <td>1288.743165</td>\n",
       "      <td>No</td>\n",
       "      <td>Premium</td>\n",
       "      <td>Bachelor</td>\n",
       "      <td>2/19/11</td>\n",
       "      <td>Employed</td>\n",
       "      <td>F</td>\n",
       "      <td>...</td>\n",
       "      <td>38</td>\n",
       "      <td>0</td>\n",
       "      <td>2</td>\n",
       "      <td>Personal Auto</td>\n",
       "      <td>Personal L3</td>\n",
       "      <td>Collision</td>\n",
       "      <td>Agent</td>\n",
       "      <td>566.472247</td>\n",
       "      <td>Two-Door Car</td>\n",
       "      <td>Medsize</td>\n",
       "    </tr>\n",
       "    <tr>\n",
       "      <th>WW63253</th>\n",
       "      <td>US</td>\n",
       "      <td>MO</td>\n",
       "      <td>Missouri</td>\n",
       "      <td>764.586183</td>\n",
       "      <td>No</td>\n",
       "      <td>Basic</td>\n",
       "      <td>Bachelor</td>\n",
       "      <td>1/20/11</td>\n",
       "      <td>Unemployed</td>\n",
       "      <td>M</td>\n",
       "      <td>...</td>\n",
       "      <td>65</td>\n",
       "      <td>0</td>\n",
       "      <td>7</td>\n",
       "      <td>Corporate Auto</td>\n",
       "      <td>Corporate L2</td>\n",
       "      <td>Collision</td>\n",
       "      <td>Call Center</td>\n",
       "      <td>529.881344</td>\n",
       "      <td>SUV</td>\n",
       "      <td>Medsize</td>\n",
       "    </tr>\n",
       "    <tr>\n",
       "      <th>HB64268</th>\n",
       "      <td>US</td>\n",
       "      <td>KS</td>\n",
       "      <td>Kansas</td>\n",
       "      <td>281.369258</td>\n",
       "      <td>No</td>\n",
       "      <td>Basic</td>\n",
       "      <td>Bachelor</td>\n",
       "      <td>2/3/11</td>\n",
       "      <td>Employed</td>\n",
       "      <td>M</td>\n",
       "      <td>...</td>\n",
       "      <td>44</td>\n",
       "      <td>0</td>\n",
       "      <td>1</td>\n",
       "      <td>Personal Auto</td>\n",
       "      <td>Personal L1</td>\n",
       "      <td>Collision</td>\n",
       "      <td>Agent</td>\n",
       "      <td>138.130879</td>\n",
       "      <td>Four-Door Car</td>\n",
       "      <td>Medsize</td>\n",
       "    </tr>\n",
       "    <tr>\n",
       "      <th>...</th>\n",
       "      <td>...</td>\n",
       "      <td>...</td>\n",
       "      <td>...</td>\n",
       "      <td>...</td>\n",
       "      <td>...</td>\n",
       "      <td>...</td>\n",
       "      <td>...</td>\n",
       "      <td>...</td>\n",
       "      <td>...</td>\n",
       "      <td>...</td>\n",
       "      <td>...</td>\n",
       "      <td>...</td>\n",
       "      <td>...</td>\n",
       "      <td>...</td>\n",
       "      <td>...</td>\n",
       "      <td>...</td>\n",
       "      <td>...</td>\n",
       "      <td>...</td>\n",
       "      <td>...</td>\n",
       "      <td>...</td>\n",
       "      <td>...</td>\n",
       "    </tr>\n",
       "    <tr>\n",
       "      <th>LA72316</th>\n",
       "      <td>US</td>\n",
       "      <td>MO</td>\n",
       "      <td>Missouri</td>\n",
       "      <td>2340.598798</td>\n",
       "      <td>No</td>\n",
       "      <td>Basic</td>\n",
       "      <td>Bachelor</td>\n",
       "      <td>2/10/11</td>\n",
       "      <td>Employed</td>\n",
       "      <td>M</td>\n",
       "      <td>...</td>\n",
       "      <td>89</td>\n",
       "      <td>0</td>\n",
       "      <td>2</td>\n",
       "      <td>Personal Auto</td>\n",
       "      <td>Personal L1</td>\n",
       "      <td>Hail</td>\n",
       "      <td>Web</td>\n",
       "      <td>198.234764</td>\n",
       "      <td>Four-Door Car</td>\n",
       "      <td>Medsize</td>\n",
       "    </tr>\n",
       "    <tr>\n",
       "      <th>PK87824</th>\n",
       "      <td>US</td>\n",
       "      <td>MO</td>\n",
       "      <td>Missouri</td>\n",
       "      <td>309.651122</td>\n",
       "      <td>Yes</td>\n",
       "      <td>Extended</td>\n",
       "      <td>College</td>\n",
       "      <td>2/12/11</td>\n",
       "      <td>Employed</td>\n",
       "      <td>F</td>\n",
       "      <td>...</td>\n",
       "      <td>28</td>\n",
       "      <td>0</td>\n",
       "      <td>1</td>\n",
       "      <td>Corporate Auto</td>\n",
       "      <td>Corporate L3</td>\n",
       "      <td>Collision</td>\n",
       "      <td>Branch</td>\n",
       "      <td>379.200000</td>\n",
       "      <td>Four-Door Car</td>\n",
       "      <td>Medsize</td>\n",
       "    </tr>\n",
       "    <tr>\n",
       "      <th>TD14365</th>\n",
       "      <td>US</td>\n",
       "      <td>MO</td>\n",
       "      <td>Missouri</td>\n",
       "      <td>816.389043</td>\n",
       "      <td>No</td>\n",
       "      <td>Extended</td>\n",
       "      <td>Bachelor</td>\n",
       "      <td>2/6/11</td>\n",
       "      <td>Unemployed</td>\n",
       "      <td>M</td>\n",
       "      <td>...</td>\n",
       "      <td>37</td>\n",
       "      <td>3</td>\n",
       "      <td>2</td>\n",
       "      <td>Corporate Auto</td>\n",
       "      <td>Corporate L2</td>\n",
       "      <td>Collision</td>\n",
       "      <td>Branch</td>\n",
       "      <td>790.784983</td>\n",
       "      <td>Four-Door Car</td>\n",
       "      <td>Medsize</td>\n",
       "    </tr>\n",
       "    <tr>\n",
       "      <th>UP19263</th>\n",
       "      <td>US</td>\n",
       "      <td>MO</td>\n",
       "      <td>Missouri</td>\n",
       "      <td>752.444244</td>\n",
       "      <td>No</td>\n",
       "      <td>Extended</td>\n",
       "      <td>College</td>\n",
       "      <td>2/3/11</td>\n",
       "      <td>Employed</td>\n",
       "      <td>M</td>\n",
       "      <td>...</td>\n",
       "      <td>3</td>\n",
       "      <td>0</td>\n",
       "      <td>3</td>\n",
       "      <td>Personal Auto</td>\n",
       "      <td>Personal L2</td>\n",
       "      <td>Scratch/Dent</td>\n",
       "      <td>Branch</td>\n",
       "      <td>691.200000</td>\n",
       "      <td>Four-Door Car</td>\n",
       "      <td>Large</td>\n",
       "    </tr>\n",
       "    <tr>\n",
       "      <th>Y167826</th>\n",
       "      <td>US</td>\n",
       "      <td>MO</td>\n",
       "      <td>Missouri</td>\n",
       "      <td>261.183687</td>\n",
       "      <td>No</td>\n",
       "      <td>Extended</td>\n",
       "      <td>College</td>\n",
       "      <td>2/14/11</td>\n",
       "      <td>Unemployed</td>\n",
       "      <td>M</td>\n",
       "      <td>...</td>\n",
       "      <td>90</td>\n",
       "      <td>0</td>\n",
       "      <td>1</td>\n",
       "      <td>Corporate Auto</td>\n",
       "      <td>Corporate L3</td>\n",
       "      <td>Other</td>\n",
       "      <td>Call Center</td>\n",
       "      <td>369.600000</td>\n",
       "      <td>Two-Door Car</td>\n",
       "      <td>Medsize</td>\n",
       "    </tr>\n",
       "  </tbody>\n",
       "</table>\n",
       "<p>9134 rows × 25 columns</p>\n",
       "</div>"
      ],
      "text/plain": [
       "         Country State Code     State  Claim Amount Response  Coverage  \\\n",
       "Customer                                                                 \n",
       "BU79786       US         KS    Kansas    276.351928       No     Basic   \n",
       "QZ44356       US         NE  Nebraska    697.953590       No  Extended   \n",
       "AI49188       US         OK  Oklahoma   1288.743165       No   Premium   \n",
       "WW63253       US         MO  Missouri    764.586183       No     Basic   \n",
       "HB64268       US         KS    Kansas    281.369258       No     Basic   \n",
       "...          ...        ...       ...           ...      ...       ...   \n",
       "LA72316       US         MO  Missouri   2340.598798       No     Basic   \n",
       "PK87824       US         MO  Missouri    309.651122      Yes  Extended   \n",
       "TD14365       US         MO  Missouri    816.389043       No  Extended   \n",
       "UP19263       US         MO  Missouri    752.444244       No  Extended   \n",
       "Y167826       US         MO  Missouri    261.183687       No  Extended   \n",
       "\n",
       "         Education Effective To Date EmploymentStatus Gender  ...  \\\n",
       "Customer                                                      ...   \n",
       "BU79786   Bachelor           2/24/11         Employed      F  ...   \n",
       "QZ44356   Bachelor           1/31/11       Unemployed      F  ...   \n",
       "AI49188   Bachelor           2/19/11         Employed      F  ...   \n",
       "WW63253   Bachelor           1/20/11       Unemployed      M  ...   \n",
       "HB64268   Bachelor            2/3/11         Employed      M  ...   \n",
       "...            ...               ...              ...    ...  ...   \n",
       "LA72316   Bachelor           2/10/11         Employed      M  ...   \n",
       "PK87824    College           2/12/11         Employed      F  ...   \n",
       "TD14365   Bachelor            2/6/11       Unemployed      M  ...   \n",
       "UP19263    College            2/3/11         Employed      M  ...   \n",
       "Y167826    College           2/14/11       Unemployed      M  ...   \n",
       "\n",
       "          Months Since Policy Inception Number of Open Complaints  \\\n",
       "Customer                                                            \n",
       "BU79786                               5                         0   \n",
       "QZ44356                              42                         0   \n",
       "AI49188                              38                         0   \n",
       "WW63253                              65                         0   \n",
       "HB64268                              44                         0   \n",
       "...                                 ...                       ...   \n",
       "LA72316                              89                         0   \n",
       "PK87824                              28                         0   \n",
       "TD14365                              37                         3   \n",
       "UP19263                               3                         0   \n",
       "Y167826                              90                         0   \n",
       "\n",
       "         Number of Policies     Policy Type        Policy  Claim Reason  \\\n",
       "Customer                                                                  \n",
       "BU79786                   1  Corporate Auto  Corporate L3     Collision   \n",
       "QZ44356                   8   Personal Auto   Personal L3  Scratch/Dent   \n",
       "AI49188                   2   Personal Auto   Personal L3     Collision   \n",
       "WW63253                   7  Corporate Auto  Corporate L2     Collision   \n",
       "HB64268                   1   Personal Auto   Personal L1     Collision   \n",
       "...                     ...             ...           ...           ...   \n",
       "LA72316                   2   Personal Auto   Personal L1          Hail   \n",
       "PK87824                   1  Corporate Auto  Corporate L3     Collision   \n",
       "TD14365                   2  Corporate Auto  Corporate L2     Collision   \n",
       "UP19263                   3   Personal Auto   Personal L2  Scratch/Dent   \n",
       "Y167826                   1  Corporate Auto  Corporate L3         Other   \n",
       "\n",
       "          Sales Channel  Total Claim Amount  Vehicle Class Vehicle Size  \n",
       "Customer                                                                 \n",
       "BU79786           Agent          384.811147   Two-Door Car      Medsize  \n",
       "QZ44356           Agent         1131.464935  Four-Door Car      Medsize  \n",
       "AI49188           Agent          566.472247   Two-Door Car      Medsize  \n",
       "WW63253     Call Center          529.881344            SUV      Medsize  \n",
       "HB64268           Agent          138.130879  Four-Door Car      Medsize  \n",
       "...                 ...                 ...            ...          ...  \n",
       "LA72316             Web          198.234764  Four-Door Car      Medsize  \n",
       "PK87824          Branch          379.200000  Four-Door Car      Medsize  \n",
       "TD14365          Branch          790.784983  Four-Door Car      Medsize  \n",
       "UP19263          Branch          691.200000  Four-Door Car        Large  \n",
       "Y167826     Call Center          369.600000   Two-Door Car      Medsize  \n",
       "\n",
       "[9134 rows x 25 columns]"
      ]
     },
     "execution_count": 5,
     "metadata": {},
     "output_type": "execute_result"
    }
   ],
   "source": [
    "df"
   ]
  },
  {
   "cell_type": "code",
   "execution_count": 7,
   "id": "43f1dbc6",
   "metadata": {},
   "outputs": [],
   "source": [
    "#Dropping the unneccessary columns -> Country and StateCode\n",
    "\n",
    "del df['Country']"
   ]
  },
  {
   "cell_type": "code",
   "execution_count": 9,
   "id": "dcc7b909",
   "metadata": {},
   "outputs": [],
   "source": [
    "del df['State Code']"
   ]
  },
  {
   "cell_type": "code",
   "execution_count": 10,
   "id": "ce3d787c",
   "metadata": {},
   "outputs": [
    {
     "data": {
      "text/plain": [
       "Index(['State', 'Claim Amount', 'Response', 'Coverage', 'Education',\n",
       "       'Effective To Date', 'EmploymentStatus', 'Gender', 'Income',\n",
       "       'Location Code', 'Marital Status', 'Monthly Premium Auto',\n",
       "       'Months Since Last Claim', 'Months Since Policy Inception',\n",
       "       'Number of Open Complaints', 'Number of Policies', 'Policy Type',\n",
       "       'Policy', 'Claim Reason', 'Sales Channel', 'Total Claim Amount',\n",
       "       'Vehicle Class', 'Vehicle Size'],\n",
       "      dtype='object')"
      ]
     },
     "execution_count": 10,
     "metadata": {},
     "output_type": "execute_result"
    }
   ],
   "source": [
    "## Looking for the columns we have left with final. \n",
    "df.columns"
   ]
  },
  {
   "cell_type": "code",
   "execution_count": 14,
   "id": "63a5d2ff",
   "metadata": {},
   "outputs": [
    {
     "data": {
      "text/plain": [
       "State                            0\n",
       "Claim Amount                     0\n",
       "Response                         0\n",
       "Coverage                         0\n",
       "Education                        0\n",
       "Effective To Date                0\n",
       "EmploymentStatus                 0\n",
       "Gender                           0\n",
       "Income                           0\n",
       "Location Code                    0\n",
       "Marital Status                   0\n",
       "Monthly Premium Auto             0\n",
       "Months Since Last Claim          0\n",
       "Months Since Policy Inception    0\n",
       "Number of Open Complaints        0\n",
       "Number of Policies               0\n",
       "Policy Type                      0\n",
       "Policy                           0\n",
       "Claim Reason                     0\n",
       "Sales Channel                    0\n",
       "Total Claim Amount               0\n",
       "Vehicle Class                    0\n",
       "Vehicle Size                     0\n",
       "dtype: int64"
      ]
     },
     "execution_count": 14,
     "metadata": {},
     "output_type": "execute_result"
    }
   ],
   "source": [
    "# Checking the null values in the dataset\n",
    "\n",
    "df.isnull().sum()"
   ]
  },
  {
   "cell_type": "code",
   "execution_count": 15,
   "id": "ee0a309f",
   "metadata": {},
   "outputs": [
    {
     "name": "stdout",
     "output_type": "stream",
     "text": [
      "There is no null values in the dataset.\n"
     ]
    }
   ],
   "source": [
    "print(\"There is no null values in the dataset.\")"
   ]
  },
  {
   "cell_type": "code",
   "execution_count": 11,
   "id": "44357672",
   "metadata": {},
   "outputs": [
    {
     "data": {
      "text/plain": [
       "array(['Bachelor', 'College', 'Master', 'High School or Below', 'Doctor'],\n",
       "      dtype=object)"
      ]
     },
     "execution_count": 11,
     "metadata": {},
     "output_type": "execute_result"
    }
   ],
   "source": [
    "# Checking the distinct Education available\n",
    "df['Education'].unique()"
   ]
  },
  {
   "cell_type": "code",
   "execution_count": 29,
   "id": "d91d5a40",
   "metadata": {},
   "outputs": [
    {
     "data": {
      "text/plain": [
       "array(['Employed', 'Unemployed', 'Medical Leave', 'Disabled', 'Retired'],\n",
       "      dtype=object)"
      ]
     },
     "execution_count": 29,
     "metadata": {},
     "output_type": "execute_result"
    }
   ],
   "source": [
    "# Checking out the distnict Employement status of the population. \n",
    "df['EmploymentStatus'].unique()"
   ]
  },
  {
   "cell_type": "code",
   "execution_count": 17,
   "id": "116f14d2",
   "metadata": {},
   "outputs": [
    {
     "data": {
      "text/plain": [
       "Customer\n",
       "BU79786     384.811147\n",
       "QZ44356    1131.464935\n",
       "AI49188     566.472247\n",
       "WW63253     529.881344\n",
       "HB64268     138.130879\n",
       "              ...     \n",
       "LA72316     198.234764\n",
       "PK87824     379.200000\n",
       "TD14365     790.784983\n",
       "UP19263     691.200000\n",
       "Y167826     369.600000\n",
       "Name: Total Claim Amount, Length: 9134, dtype: float64"
      ]
     },
     "execution_count": 17,
     "metadata": {},
     "output_type": "execute_result"
    }
   ],
   "source": [
    "df['Total Claim Amount']"
   ]
  },
  {
   "cell_type": "code",
   "execution_count": 23,
   "id": "0fca378e",
   "metadata": {},
   "outputs": [
    {
     "name": "stderr",
     "output_type": "stream",
     "text": [
      "C:\\Users\\sudes\\AppData\\Local\\Temp/ipykernel_16668/1055179753.py:3: FutureWarning: Indexing with multiple keys (implicitly converted to a tuple of keys) will be deprecated, use a list instead.\n",
      "  data = df.groupby('Education')['State','Claim Amount','Response','EmploymentStatus','Income','Monthly Premium Auto','Claim Reason','Vehicle Class','Vehicle Size'].max().reset_index()\n"
     ]
    }
   ],
   "source": [
    "## Segregating the data as per the Education and finding out the highest claim asked.\n",
    "\n",
    "data = df.groupby('Education')['State','Claim Amount','Response','EmploymentStatus','Income','Monthly Premium Auto','Claim Reason','Vehicle Class','Vehicle Size'].max().reset_index()\n",
    "data = data.sort_values('Claim Amount', ascending = False)\n",
    "data = data[['EmploymentStatus','Education','Income','Claim Amount','Claim Reason','Monthly Premium Auto','Vehicle Class']]\n",
    "data = data.reset_index(drop = True)"
   ]
  },
  {
   "cell_type": "code",
   "execution_count": 24,
   "id": "0717bff1",
   "metadata": {},
   "outputs": [
    {
     "data": {
      "text/html": [
       "<div>\n",
       "<style scoped>\n",
       "    .dataframe tbody tr th:only-of-type {\n",
       "        vertical-align: middle;\n",
       "    }\n",
       "\n",
       "    .dataframe tbody tr th {\n",
       "        vertical-align: top;\n",
       "    }\n",
       "\n",
       "    .dataframe thead th {\n",
       "        text-align: right;\n",
       "    }\n",
       "</style>\n",
       "<table border=\"1\" class=\"dataframe\">\n",
       "  <thead>\n",
       "    <tr style=\"text-align: right;\">\n",
       "      <th></th>\n",
       "      <th>EmploymentStatus</th>\n",
       "      <th>Education</th>\n",
       "      <th>Income</th>\n",
       "      <th>Claim Amount</th>\n",
       "      <th>Claim Reason</th>\n",
       "      <th>Monthly Premium Auto</th>\n",
       "      <th>Vehicle Class</th>\n",
       "    </tr>\n",
       "  </thead>\n",
       "  <tbody>\n",
       "    <tr>\n",
       "      <th>0</th>\n",
       "      <td>Unemployed</td>\n",
       "      <td>High School or Below</td>\n",
       "      <td>99874</td>\n",
       "      <td>8332.538119</td>\n",
       "      <td>Scratch/Dent</td>\n",
       "      <td>290</td>\n",
       "      <td>Two-Door Car</td>\n",
       "    </tr>\n",
       "    <tr>\n",
       "      <th>1</th>\n",
       "      <td>Unemployed</td>\n",
       "      <td>Bachelor</td>\n",
       "      <td>99981</td>\n",
       "      <td>7322.595652</td>\n",
       "      <td>Scratch/Dent</td>\n",
       "      <td>298</td>\n",
       "      <td>Two-Door Car</td>\n",
       "    </tr>\n",
       "    <tr>\n",
       "      <th>2</th>\n",
       "      <td>Unemployed</td>\n",
       "      <td>College</td>\n",
       "      <td>99961</td>\n",
       "      <td>6185.018803</td>\n",
       "      <td>Scratch/Dent</td>\n",
       "      <td>297</td>\n",
       "      <td>Two-Door Car</td>\n",
       "    </tr>\n",
       "    <tr>\n",
       "      <th>3</th>\n",
       "      <td>Unemployed</td>\n",
       "      <td>Master</td>\n",
       "      <td>99960</td>\n",
       "      <td>5101.606704</td>\n",
       "      <td>Scratch/Dent</td>\n",
       "      <td>249</td>\n",
       "      <td>Two-Door Car</td>\n",
       "    </tr>\n",
       "    <tr>\n",
       "      <th>4</th>\n",
       "      <td>Unemployed</td>\n",
       "      <td>Doctor</td>\n",
       "      <td>99443</td>\n",
       "      <td>4485.611397</td>\n",
       "      <td>Scratch/Dent</td>\n",
       "      <td>296</td>\n",
       "      <td>Two-Door Car</td>\n",
       "    </tr>\n",
       "  </tbody>\n",
       "</table>\n",
       "</div>"
      ],
      "text/plain": [
       "  EmploymentStatus             Education  Income  Claim Amount  Claim Reason  \\\n",
       "0       Unemployed  High School or Below   99874   8332.538119  Scratch/Dent   \n",
       "1       Unemployed              Bachelor   99981   7322.595652  Scratch/Dent   \n",
       "2       Unemployed               College   99961   6185.018803  Scratch/Dent   \n",
       "3       Unemployed                Master   99960   5101.606704  Scratch/Dent   \n",
       "4       Unemployed                Doctor   99443   4485.611397  Scratch/Dent   \n",
       "\n",
       "   Monthly Premium Auto Vehicle Class  \n",
       "0                   290  Two-Door Car  \n",
       "1                   298  Two-Door Car  \n",
       "2                   297  Two-Door Car  \n",
       "3                   249  Two-Door Car  \n",
       "4                   296  Two-Door Car  "
      ]
     },
     "execution_count": 24,
     "metadata": {},
     "output_type": "execute_result"
    }
   ],
   "source": [
    "data"
   ]
  },
  {
   "cell_type": "code",
   "execution_count": 26,
   "id": "b5610253",
   "metadata": {},
   "outputs": [
    {
     "name": "stderr",
     "output_type": "stream",
     "text": [
      "C:\\Users\\sudes\\AppData\\Local\\Temp/ipykernel_16668/1723968473.py:1: FutureWarning: Indexing with multiple keys (implicitly converted to a tuple of keys) will be deprecated, use a list instead.\n",
      "  data1 = df.groupby('Education')['State','Claim Amount','Response','EmploymentStatus','Income','Monthly Premium Auto','Claim Reason','Vehicle Class','Vehicle Size'].min().reset_index()\n"
     ]
    }
   ],
   "source": [
    "### Segregating the data as per the Education and finding out the minimum claim asked.\n",
    "data1 = df.groupby('Education')['State','Claim Amount','Response','EmploymentStatus','Income','Monthly Premium Auto','Claim Reason','Vehicle Class','Vehicle Size'].min().reset_index()\n",
    "data1 = data1.sort_values('Claim Amount', ascending = False)\n",
    "data1 = data1[['EmploymentStatus','Education','Income','Claim Amount','Claim Reason','Monthly Premium Auto','Vehicle Class']]\n",
    "data1 = data1.reset_index(drop = True)"
   ]
  },
  {
   "cell_type": "code",
   "execution_count": 27,
   "id": "5fd9164d",
   "metadata": {},
   "outputs": [
    {
     "data": {
      "text/html": [
       "<div>\n",
       "<style scoped>\n",
       "    .dataframe tbody tr th:only-of-type {\n",
       "        vertical-align: middle;\n",
       "    }\n",
       "\n",
       "    .dataframe tbody tr th {\n",
       "        vertical-align: top;\n",
       "    }\n",
       "\n",
       "    .dataframe thead th {\n",
       "        text-align: right;\n",
       "    }\n",
       "</style>\n",
       "<table border=\"1\" class=\"dataframe\">\n",
       "  <thead>\n",
       "    <tr style=\"text-align: right;\">\n",
       "      <th></th>\n",
       "      <th>EmploymentStatus</th>\n",
       "      <th>Education</th>\n",
       "      <th>Income</th>\n",
       "      <th>Claim Amount</th>\n",
       "      <th>Claim Reason</th>\n",
       "      <th>Monthly Premium Auto</th>\n",
       "      <th>Vehicle Class</th>\n",
       "    </tr>\n",
       "  </thead>\n",
       "  <tbody>\n",
       "    <tr>\n",
       "      <th>0</th>\n",
       "      <td>Disabled</td>\n",
       "      <td>Master</td>\n",
       "      <td>0</td>\n",
       "      <td>227.230731</td>\n",
       "      <td>Collision</td>\n",
       "      <td>61</td>\n",
       "      <td>Four-Door Car</td>\n",
       "    </tr>\n",
       "    <tr>\n",
       "      <th>1</th>\n",
       "      <td>Disabled</td>\n",
       "      <td>Doctor</td>\n",
       "      <td>0</td>\n",
       "      <td>226.760404</td>\n",
       "      <td>Collision</td>\n",
       "      <td>61</td>\n",
       "      <td>Four-Door Car</td>\n",
       "    </tr>\n",
       "    <tr>\n",
       "      <th>2</th>\n",
       "      <td>Disabled</td>\n",
       "      <td>High School or Below</td>\n",
       "      <td>0</td>\n",
       "      <td>194.098122</td>\n",
       "      <td>Collision</td>\n",
       "      <td>61</td>\n",
       "      <td>Four-Door Car</td>\n",
       "    </tr>\n",
       "    <tr>\n",
       "      <th>3</th>\n",
       "      <td>Disabled</td>\n",
       "      <td>College</td>\n",
       "      <td>0</td>\n",
       "      <td>189.868369</td>\n",
       "      <td>Collision</td>\n",
       "      <td>61</td>\n",
       "      <td>Four-Door Car</td>\n",
       "    </tr>\n",
       "    <tr>\n",
       "      <th>4</th>\n",
       "      <td>Disabled</td>\n",
       "      <td>Bachelor</td>\n",
       "      <td>0</td>\n",
       "      <td>189.800768</td>\n",
       "      <td>Collision</td>\n",
       "      <td>61</td>\n",
       "      <td>Four-Door Car</td>\n",
       "    </tr>\n",
       "  </tbody>\n",
       "</table>\n",
       "</div>"
      ],
      "text/plain": [
       "  EmploymentStatus             Education  Income  Claim Amount Claim Reason  \\\n",
       "0         Disabled                Master       0    227.230731    Collision   \n",
       "1         Disabled                Doctor       0    226.760404    Collision   \n",
       "2         Disabled  High School or Below       0    194.098122    Collision   \n",
       "3         Disabled               College       0    189.868369    Collision   \n",
       "4         Disabled              Bachelor       0    189.800768    Collision   \n",
       "\n",
       "   Monthly Premium Auto  Vehicle Class  \n",
       "0                    61  Four-Door Car  \n",
       "1                    61  Four-Door Car  \n",
       "2                    61  Four-Door Car  \n",
       "3                    61  Four-Door Car  \n",
       "4                    61  Four-Door Car  "
      ]
     },
     "execution_count": 27,
     "metadata": {},
     "output_type": "execute_result"
    }
   ],
   "source": [
    "data1"
   ]
  },
  {
   "cell_type": "code",
   "execution_count": 30,
   "id": "c75ff661",
   "metadata": {},
   "outputs": [
    {
     "name": "stderr",
     "output_type": "stream",
     "text": [
      "C:\\Users\\sudes\\AppData\\Local\\Temp/ipykernel_16668/383878910.py:3: FutureWarning: Indexing with multiple keys (implicitly converted to a tuple of keys) will be deprecated, use a list instead.\n",
      "  data2 = df.groupby('EmploymentStatus')['State','Claim Amount','Response','Income','Monthly Premium Auto','Claim Reason','Vehicle Class'].min().reset_index()\n"
     ]
    }
   ],
   "source": [
    "## Segregating thr data as per the Employement Status and finding out the highest claim asked. \n",
    "\n",
    "data2 = df.groupby('EmploymentStatus')['State','Claim Amount','Response','Income','Monthly Premium Auto','Claim Reason','Vehicle Class'].min().reset_index()\n",
    "data2 = data2.sort_values('Claim Amount', ascending = False)\n",
    "data2 = data2[['EmploymentStatus','Income','Claim Amount','Claim Reason','Monthly Premium Auto','Vehicle Class']]\n",
    "data2 = data2.reset_index(drop = True) "
   ]
  },
  {
   "cell_type": "code",
   "execution_count": 31,
   "id": "659f3bda",
   "metadata": {},
   "outputs": [
    {
     "data": {
      "text/html": [
       "<div>\n",
       "<style scoped>\n",
       "    .dataframe tbody tr th:only-of-type {\n",
       "        vertical-align: middle;\n",
       "    }\n",
       "\n",
       "    .dataframe tbody tr th {\n",
       "        vertical-align: top;\n",
       "    }\n",
       "\n",
       "    .dataframe thead th {\n",
       "        text-align: right;\n",
       "    }\n",
       "</style>\n",
       "<table border=\"1\" class=\"dataframe\">\n",
       "  <thead>\n",
       "    <tr style=\"text-align: right;\">\n",
       "      <th></th>\n",
       "      <th>EmploymentStatus</th>\n",
       "      <th>Income</th>\n",
       "      <th>Claim Amount</th>\n",
       "      <th>Claim Reason</th>\n",
       "      <th>Monthly Premium Auto</th>\n",
       "      <th>Vehicle Class</th>\n",
       "    </tr>\n",
       "  </thead>\n",
       "  <tbody>\n",
       "    <tr>\n",
       "      <th>0</th>\n",
       "      <td>Medical Leave</td>\n",
       "      <td>10037</td>\n",
       "      <td>227.233535</td>\n",
       "      <td>Collision</td>\n",
       "      <td>61</td>\n",
       "      <td>Four-Door Car</td>\n",
       "    </tr>\n",
       "    <tr>\n",
       "      <th>1</th>\n",
       "      <td>Employed</td>\n",
       "      <td>20009</td>\n",
       "      <td>225.531294</td>\n",
       "      <td>Collision</td>\n",
       "      <td>61</td>\n",
       "      <td>Four-Door Car</td>\n",
       "    </tr>\n",
       "    <tr>\n",
       "      <th>2</th>\n",
       "      <td>Retired</td>\n",
       "      <td>10180</td>\n",
       "      <td>217.411199</td>\n",
       "      <td>Collision</td>\n",
       "      <td>61</td>\n",
       "      <td>Four-Door Car</td>\n",
       "    </tr>\n",
       "    <tr>\n",
       "      <th>3</th>\n",
       "      <td>Disabled</td>\n",
       "      <td>10097</td>\n",
       "      <td>211.989433</td>\n",
       "      <td>Collision</td>\n",
       "      <td>61</td>\n",
       "      <td>Four-Door Car</td>\n",
       "    </tr>\n",
       "    <tr>\n",
       "      <th>4</th>\n",
       "      <td>Unemployed</td>\n",
       "      <td>0</td>\n",
       "      <td>189.800768</td>\n",
       "      <td>Collision</td>\n",
       "      <td>61</td>\n",
       "      <td>Four-Door Car</td>\n",
       "    </tr>\n",
       "  </tbody>\n",
       "</table>\n",
       "</div>"
      ],
      "text/plain": [
       "  EmploymentStatus  Income  Claim Amount Claim Reason  Monthly Premium Auto  \\\n",
       "0    Medical Leave   10037    227.233535    Collision                    61   \n",
       "1         Employed   20009    225.531294    Collision                    61   \n",
       "2          Retired   10180    217.411199    Collision                    61   \n",
       "3         Disabled   10097    211.989433    Collision                    61   \n",
       "4       Unemployed       0    189.800768    Collision                    61   \n",
       "\n",
       "   Vehicle Class  \n",
       "0  Four-Door Car  \n",
       "1  Four-Door Car  \n",
       "2  Four-Door Car  \n",
       "3  Four-Door Car  \n",
       "4  Four-Door Car  "
      ]
     },
     "execution_count": 31,
     "metadata": {},
     "output_type": "execute_result"
    }
   ],
   "source": [
    "data2"
   ]
  },
  {
   "cell_type": "code",
   "execution_count": 34,
   "id": "802d45d7",
   "metadata": {},
   "outputs": [
    {
     "data": {
      "text/plain": [
       "<AxesSubplot:xlabel='Income', ylabel='Claim Reason'>"
      ]
     },
     "execution_count": 34,
     "metadata": {},
     "output_type": "execute_result"
    },
    {
     "data": {
      "image/png": "[encoded data removed]",
      "text/plain": [
       "<Figure size 432x288 with 1 Axes>"
      ]
     },
     "metadata": {
      "needs_background": "light"
     },
     "output_type": "display_data"
    }
   ],
   "source": [
    "## Line plot of showing the claim reason as per the employement status. \n",
    "\n",
    "sns.lineplot(\"Income\",\"Claim Reason\", data = data2)"
   ]
  },
  {
   "cell_type": "code",
   "execution_count": 35,
   "id": "6750c06c",
   "metadata": {},
   "outputs": [
    {
     "name": "stderr",
     "output_type": "stream",
     "text": [
      "C:\\Users\\sudes\\anaconda3\\lib\\site-packages\\seaborn\\_decorators.py:36: FutureWarning: Pass the following variables as keyword args: x, y. From version 0.12, the only valid positional argument will be `data`, and passing other arguments without an explicit keyword will result in an error or misinterpretation.\n",
      "  warnings.warn(\n"
     ]
    },
    {
     "data": {
      "text/plain": [
       "<AxesSubplot:xlabel='Income', ylabel='Claim Amount'>"
      ]
     },
     "execution_count": 35,
     "metadata": {},
     "output_type": "execute_result"
    },
    {
     "data": {
      "image/png": "[encoded data removed]",
      "text/plain": [
       "<Figure size 432x288 with 1 Axes>"
      ]
     },
     "metadata": {
      "needs_background": "light"
     },
     "output_type": "display_data"
    }
   ],
   "source": [
    "## Line plot of showing the claim amount as per the employement status. \n",
    "\n",
    "sns.lineplot(\"Income\",\"Claim Amount\", data = data2)"
   ]
  },
  {
   "cell_type": "code",
   "execution_count": 52,
   "id": "ad38bdbd",
   "metadata": {},
   "outputs": [
    {
     "name": "stderr",
     "output_type": "stream",
     "text": [
      "C:\\Users\\sudes\\AppData\\Local\\Temp/ipykernel_16668/3604694501.py:3: FutureWarning: Indexing with multiple keys (implicitly converted to a tuple of keys) will be deprecated, use a list instead.\n",
      "  data3 = df.groupby('Coverage')['Gender','Income','Claim Reason','Claim Amount','Vehicle Class'].max().reset_index()\n"
     ]
    }
   ],
   "source": [
    "## Checking the data as per the coverage. Maximum. \n",
    "\n",
    "data3 = df.groupby('Coverage')['Gender','Income','Claim Reason','Claim Amount','Vehicle Class'].max().reset_index()\n",
    "data3 = data3.sort_values('Claim Amount', ascending = False)\n",
    "data3 = data3[['Coverage','Income','Claim Reason','Claim Amount','Vehicle Class']]\n",
    "data3 = data3.reset_index(drop = True)"
   ]
  },
  {
   "cell_type": "code",
   "execution_count": 53,
   "id": "5ceeb2ce",
   "metadata": {},
   "outputs": [
    {
     "data": {
      "text/html": [
       "<div>\n",
       "<style scoped>\n",
       "    .dataframe tbody tr th:only-of-type {\n",
       "        vertical-align: middle;\n",
       "    }\n",
       "\n",
       "    .dataframe tbody tr th {\n",
       "        vertical-align: top;\n",
       "    }\n",
       "\n",
       "    .dataframe thead th {\n",
       "        text-align: right;\n",
       "    }\n",
       "</style>\n",
       "<table border=\"1\" class=\"dataframe\">\n",
       "  <thead>\n",
       "    <tr style=\"text-align: right;\">\n",
       "      <th></th>\n",
       "      <th>Coverage</th>\n",
       "      <th>Income</th>\n",
       "      <th>Claim Reason</th>\n",
       "      <th>Claim Amount</th>\n",
       "      <th>Vehicle Class</th>\n",
       "    </tr>\n",
       "  </thead>\n",
       "  <tbody>\n",
       "    <tr>\n",
       "      <th>0</th>\n",
       "      <td>Extended</td>\n",
       "      <td>99960</td>\n",
       "      <td>Scratch/Dent</td>\n",
       "      <td>8332.538119</td>\n",
       "      <td>Two-Door Car</td>\n",
       "    </tr>\n",
       "    <tr>\n",
       "      <th>1</th>\n",
       "      <td>Premium</td>\n",
       "      <td>99772</td>\n",
       "      <td>Scratch/Dent</td>\n",
       "      <td>6790.727050</td>\n",
       "      <td>Two-Door Car</td>\n",
       "    </tr>\n",
       "    <tr>\n",
       "      <th>2</th>\n",
       "      <td>Basic</td>\n",
       "      <td>99981</td>\n",
       "      <td>Scratch/Dent</td>\n",
       "      <td>6602.575407</td>\n",
       "      <td>Two-Door Car</td>\n",
       "    </tr>\n",
       "  </tbody>\n",
       "</table>\n",
       "</div>"
      ],
      "text/plain": [
       "   Coverage  Income  Claim Reason  Claim Amount Vehicle Class\n",
       "0  Extended   99960  Scratch/Dent   8332.538119  Two-Door Car\n",
       "1   Premium   99772  Scratch/Dent   6790.727050  Two-Door Car\n",
       "2     Basic   99981  Scratch/Dent   6602.575407  Two-Door Car"
      ]
     },
     "execution_count": 53,
     "metadata": {},
     "output_type": "execute_result"
    }
   ],
   "source": [
    "data3"
   ]
  },
  {
   "cell_type": "code",
   "execution_count": 54,
   "id": "5f1b5214",
   "metadata": {},
   "outputs": [
    {
     "data": {
      "text/plain": [
       "<function seaborn.categorical.boxplot(*, x=None, y=None, hue=None, data=None, order=None, hue_order=None, orient=None, color=None, palette=None, saturation=0.75, width=0.8, dodge=True, fliersize=5, linewidth=None, whis=1.5, ax=None, **kwargs)>"
      ]
     },
     "execution_count": 54,
     "metadata": {},
     "output_type": "execute_result"
    }
   ],
   "source": [
    "sns.boxplot"
   ]
  },
  {
   "cell_type": "code",
   "execution_count": 55,
   "id": "8292e612",
   "metadata": {},
   "outputs": [
    {
     "data": {
      "text/plain": [
       "<AxesSubplot:xlabel='Income'>"
      ]
     },
     "execution_count": 55,
     "metadata": {},
     "output_type": "execute_result"
    },
    {
     "data": {
      "image/png": "[encoded data removed]",
      "text/plain": [
       "<Figure size 432x288 with 1 Axes>"
      ]
     },
     "metadata": {
      "needs_background": "light"
     },
     "output_type": "display_data"
    }
   ],
   "source": [
    "sns.boxplot(x = \"Income\", data = df)"
   ]
  },
  {
   "cell_type": "code",
   "execution_count": 56,
   "id": "e4983bf2",
   "metadata": {},
   "outputs": [
    {
     "name": "stderr",
     "output_type": "stream",
     "text": [
      "C:\\Users\\sudes\\anaconda3\\lib\\site-packages\\seaborn\\_decorators.py:36: FutureWarning: Pass the following variables as keyword args: x, y. From version 0.12, the only valid positional argument will be `data`, and passing other arguments without an explicit keyword will result in an error or misinterpretation.\n",
      "  warnings.warn(\n"
     ]
    },
    {
     "data": {
      "text/plain": [
       "<AxesSubplot:xlabel='Income', ylabel='Claim Amount'>"
      ]
     },
     "execution_count": 56,
     "metadata": {},
     "output_type": "execute_result"
    },
    {
     "data": {
      "image/png": "[encoded data removed]",
      "text/plain": [
       "<Figure size 432x288 with 1 Axes>"
      ]
     },
     "metadata": {
      "needs_background": "light"
     },
     "output_type": "display_data"
    }
   ],
   "source": [
    "sns.regplot(\"Income\",\"Claim Amount\", data = df)"
   ]
  },
  {
   "cell_type": "code",
   "execution_count": 57,
   "id": "247f1fe7",
   "metadata": {},
   "outputs": [
    {
     "data": {
      "text/plain": [
       "<AxesSubplot:xlabel='Income', ylabel='Claim Amount'>"
      ]
     },
     "execution_count": 57,
     "metadata": {},
     "output_type": "execute_result"
    },
    {
     "data": {
      "image/png": "[encoded data removed]",
      "text/plain": [
       "<Figure size 432x288 with 1 Axes>"
      ]
     },
     "metadata": {
      "needs_background": "light"
     },
     "output_type": "display_data"
    }
   ],
   "source": [
    "sns.scatterplot(data = df, x = \"Income\", y = \"Claim Amount\")"
   ]
  },
  {
   "cell_type": "code",
   "execution_count": 59,
   "id": "fe1a38b8",
   "metadata": {},
   "outputs": [
    {
     "name": "stderr",
     "output_type": "stream",
     "text": [
      "C:\\Users\\sudes\\anaconda3\\lib\\site-packages\\seaborn\\_decorators.py:36: FutureWarning: Pass the following variable as a keyword arg: x. From version 0.12, the only valid positional argument will be `data`, and passing other arguments without an explicit keyword will result in an error or misinterpretation.\n",
      "  warnings.warn(\n"
     ]
    },
    {
     "data": {
      "text/plain": [
       "<AxesSubplot:xlabel='Response', ylabel='count'>"
      ]
     },
     "execution_count": 59,
     "metadata": {},
     "output_type": "execute_result"
    },
    {
     "data": {
      "image/png": "[encoded data removed]",
      "text/plain": [
       "<Figure size 432x288 with 1 Axes>"
      ]
     },
     "metadata": {
      "needs_background": "light"
     },
     "output_type": "display_data"
    }
   ],
   "source": [
    "sns.countplot(df['Response'])"
   ]
  },
  {
   "cell_type": "code",
   "execution_count": 60,
   "id": "99c950d3",
   "metadata": {},
   "outputs": [
    {
     "name": "stderr",
     "output_type": "stream",
     "text": [
      "C:\\Users\\sudes\\anaconda3\\lib\\site-packages\\seaborn\\_decorators.py:36: FutureWarning: Pass the following variable as a keyword arg: x. From version 0.12, the only valid positional argument will be `data`, and passing other arguments without an explicit keyword will result in an error or misinterpretation.\n",
      "  warnings.warn(\n"
     ]
    },
    {
     "data": {
      "text/plain": [
       "<AxesSubplot:xlabel='Coverage', ylabel='count'>"
      ]
     },
     "execution_count": 60,
     "metadata": {},
     "output_type": "execute_result"
    },
    {
     "data": {
      "image/png": "[encoded data removed]",
      "text/plain": [
       "<Figure size 432x288 with 1 Axes>"
      ]
     },
     "metadata": {
      "needs_background": "light"
     },
     "output_type": "display_data"
    }
   ],
   "source": [
    "sns.countplot(df['Coverage'])"
   ]
  },
  {
   "cell_type": "code",
   "execution_count": 61,
   "id": "fb590b6d",
   "metadata": {},
   "outputs": [
    {
     "name": "stderr",
     "output_type": "stream",
     "text": [
      "C:\\Users\\sudes\\anaconda3\\lib\\site-packages\\seaborn\\_decorators.py:36: FutureWarning: Pass the following variable as a keyword arg: x. From version 0.12, the only valid positional argument will be `data`, and passing other arguments without an explicit keyword will result in an error or misinterpretation.\n",
      "  warnings.warn(\n"
     ]
    },
    {
     "data": {
      "text/plain": [
       "<AxesSubplot:xlabel='Claim Reason', ylabel='count'>"
      ]
     },
     "execution_count": 61,
     "metadata": {},
     "output_type": "execute_result"
    },
    {
     "data": {
      "image/png": "[encoded data removed]",
      "text/plain": [
       "<Figure size 432x288 with 1 Axes>"
      ]
     },
     "metadata": {
      "needs_background": "light"
     },
     "output_type": "display_data"
    }
   ],
   "source": [
    "sns.countplot(df['Claim Reason'])"
   ]
  },
  {
   "cell_type": "code",
   "execution_count": 63,
   "id": "89348617",
   "metadata": {},
   "outputs": [
    {
     "name": "stderr",
     "output_type": "stream",
     "text": [
      "C:\\Users\\sudes\\anaconda3\\lib\\site-packages\\seaborn\\_decorators.py:36: FutureWarning: Pass the following variable as a keyword arg: x. From version 0.12, the only valid positional argument will be `data`, and passing other arguments without an explicit keyword will result in an error or misinterpretation.\n",
      "  warnings.warn(\n"
     ]
    },
    {
     "data": {
      "text/plain": [
       "<AxesSubplot:xlabel='EmploymentStatus', ylabel='count'>"
      ]
     },
     "execution_count": 63,
     "metadata": {},
     "output_type": "execute_result"
    },
    {
     "data": {
      "image/png": "[encoded data removed]",
      "text/plain": [
       "<Figure size 432x288 with 1 Axes>"
      ]
     },
     "metadata": {
      "needs_background": "light"
     },
     "output_type": "display_data"
    }
   ],
   "source": [
    "sns.countplot(df['EmploymentStatus'])"
   ]
  },
  {
   "cell_type": "code",
   "execution_count": 64,
   "id": "49885f8b",
   "metadata": {},
   "outputs": [
    {
     "data": {
      "text/plain": [
       "<AxesSubplot:xlabel='Income'>"
      ]
     },
     "execution_count": 64,
     "metadata": {},
     "output_type": "execute_result"
    },
    {
     "data": {
      "image/png": "[encoded data removed]",
      "text/plain": [
       "<Figure size 432x288 with 1 Axes>"
      ]
     },
     "metadata": {
      "needs_background": "light"
     },
     "output_type": "display_data"
    }
   ],
   "source": [
    "sns.violinplot(x = \"Income\", data = df)"
   ]
  },
  {
   "cell_type": "code",
   "execution_count": null,
   "id": "c8cebed6",
   "metadata": {},
   "outputs": [],
   "source": []
  }
 ],
 "metadata": {
  "kernelspec": {
   "display_name": "Python 3 (ipykernel)",
   "language": "python",
   "name": "python3"
  },
  "language_info": {
   "codemirror_mode": {
    "name": "ipython",
    "version": 3
   },
   "file_extension": ".py",
   "mimetype": "text/x-python",
   "name": "python",
   "nbconvert_exporter": "python",
   "pygments_lexer": "ipython3",
   "version": "3.9.7"
  }
 },
 "nbformat": 4,
 "nbformat_minor": 5
}
